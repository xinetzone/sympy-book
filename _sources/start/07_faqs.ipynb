{
 "cells": [
  {
   "cell_type": "markdown",
   "id": "0246ca7b",
   "metadata": {},
   "source": [
    "# 常见问题\n",
    "\n",
    "## 等式使用：`Eq`\n",
    "\n",
    "可以借助 [`expand()`](https://docs.sympy.org/latest/modules/core.html#sympy.core.function.expand \"sympy.core.function.expand\"), [`simplify()`](https://docs.sympy.org/latest/modules/simplify/simplify.html#sympy.simplify.simplify.simplify \"sympy.simplify.simplify.simplify\") 和 [`trigsimp()`](https://docs.sympy.org/latest/modules/simplify/simplify.html#sympy.simplify.trigsimp.trigsimp \"sympy.simplify.trigsimp.trigsimp\") 进行真值判断："
   ]
  },
  {
   "cell_type": "code",
   "execution_count": 1,
   "id": "640a9556",
   "metadata": {},
   "outputs": [
    {
     "data": {
      "image/png": "[encoded data removed]",
      "text/latex": [
       "$\\displaystyle 0$"
      ],
      "text/plain": [
       "0"
      ]
     },
     "execution_count": 1,
     "metadata": {
      "filenames": {
       "image/png": "/home/runner/work/sympy-book/sympy-book/docs/_build/jupyter_execute/start/07_faqs_1_0.png"
      }
     },
     "output_type": "execute_result"
    }
   ],
   "source": [
    "import warnings\n",
    "from sympy import simplify, cos, sin, expand, init_printing\n",
    "from sympy import symbols\n",
    "warnings.filterwarnings('ignore')\n",
    "init_printing()\n",
    "\n",
    "x = symbols('x')\n",
    "simplify((x + 1)**2 - (x**2 + 2*x + 1))"
   ]
  },
  {
   "cell_type": "code",
   "execution_count": 2,
   "id": "d245c886",
   "metadata": {},
   "outputs": [
    {
     "data": {
      "image/png": "[encoded data removed]",
      "text/latex": [
       "$\\displaystyle 0$"
      ],
      "text/plain": [
       "0"
      ]
     },
     "execution_count": 2,
     "metadata": {
      "filenames": {
       "image/png": "/home/runner/work/sympy-book/sympy-book/docs/_build/jupyter_execute/start/07_faqs_2_0.png"
      }
     },
     "output_type": "execute_result"
    }
   ],
   "source": [
    "eq = sin(2*x) - 2*sin(x)*cos(x)\n",
    "simplify(eq)"
   ]
  },
  {
   "cell_type": "code",
   "execution_count": 3,
   "id": "4c4032bb",
   "metadata": {},
   "outputs": [
    {
     "data": {
      "image/png": "[encoded data removed]",
      "text/latex": [
       "$\\displaystyle 0$"
      ],
      "text/plain": [
       "0"
      ]
     },
     "execution_count": 3,
     "metadata": {
      "filenames": {
       "image/png": "/home/runner/work/sympy-book/sympy-book/docs/_build/jupyter_execute/start/07_faqs_3_0.png"
      }
     },
     "output_type": "execute_result"
    }
   ],
   "source": [
    "expand(eq, trig=True)"
   ]
  },
  {
   "cell_type": "markdown",
   "id": "7c6cdeea",
   "metadata": {},
   "source": [
    "## 变量"
   ]
  },
  {
   "cell_type": "code",
   "execution_count": 4,
   "id": "52876868",
   "metadata": {},
   "outputs": [],
   "source": [
    "from sympy import Symbol"
   ]
  },
  {
   "cell_type": "markdown",
   "id": "0046c7ad",
   "metadata": {},
   "source": [
    "符号 $a$ 被存储为变量： \"`a`\""
   ]
  },
  {
   "cell_type": "code",
   "execution_count": 5,
   "id": "31b6c84b",
   "metadata": {},
   "outputs": [
    {
     "data": {
      "image/png": "[encoded data removed]",
      "text/latex": [
       "$\\displaystyle a$"
      ],
      "text/plain": [
       "a"
      ]
     },
     "execution_count": 5,
     "metadata": {
      "filenames": {
       "image/png": "/home/runner/work/sympy-book/sympy-book/docs/_build/jupyter_execute/start/07_faqs_7_0.png"
      }
     },
     "output_type": "execute_result"
    }
   ],
   "source": [
    "a = Symbol('a')\n",
    "a"
   ]
  },
  {
   "cell_type": "markdown",
   "id": "93247070",
   "metadata": {},
   "source": [
    "将包含符号 $a$ 的表达式存储为变量 \"`b`\""
   ]
  },
  {
   "cell_type": "code",
   "execution_count": 6,
   "id": "56180840",
   "metadata": {},
   "outputs": [
    {
     "data": {
      "image/png": "[encoded data removed]",
      "text/latex": [
       "$\\displaystyle a + 1$"
      ],
      "text/plain": [
       "a + 1"
      ]
     },
     "execution_count": 6,
     "metadata": {
      "filenames": {
       "image/png": "/home/runner/work/sympy-book/sympy-book/docs/_build/jupyter_execute/start/07_faqs_9_0.png"
      }
     },
     "output_type": "execute_result"
    }
   ],
   "source": [
    "b = a + 1\n",
    "b"
   ]
  },
  {
   "cell_type": "code",
   "execution_count": 7,
   "id": "fbb4ee04",
   "metadata": {},
   "outputs": [
    {
     "data": {
      "image/png": "[encoded data removed]",
      "text/latex": [
       "$\\displaystyle 4$"
      ],
      "text/plain": [
       "4"
      ]
     },
     "execution_count": 7,
     "metadata": {
      "filenames": {
       "image/png": "/home/runner/work/sympy-book/sympy-book/docs/_build/jupyter_execute/start/07_faqs_10_0.png"
      }
     },
     "output_type": "execute_result"
    }
   ],
   "source": [
    "a = 4\n",
    "a"
   ]
  },
  {
   "cell_type": "code",
   "execution_count": 8,
   "id": "8b370b81",
   "metadata": {},
   "outputs": [
    {
     "data": {
      "image/png": "[encoded data removed]",
      "text/latex": [
       "$\\displaystyle a + 1$"
      ],
      "text/plain": [
       "a + 1"
      ]
     },
     "execution_count": 8,
     "metadata": {
      "filenames": {
       "image/png": "/home/runner/work/sympy-book/sympy-book/docs/_build/jupyter_execute/start/07_faqs_11_0.png"
      }
     },
     "output_type": "execute_result"
    }
   ],
   "source": [
    "b"
   ]
  },
  {
   "cell_type": "code",
   "execution_count": 9,
   "id": "0a0ac579",
   "metadata": {},
   "outputs": [
    {
     "data": {
      "image/png": "[encoded data removed]",
      "text/latex": [
       "$\\displaystyle \\left( rate, \\  time, \\  short_{life}\\right)$"
      ],
      "text/plain": [
       "(rate, time, short_life)"
      ]
     },
     "execution_count": 9,
     "metadata": {
      "filenames": {
       "image/png": "/home/runner/work/sympy-book/sympy-book/docs/_build/jupyter_execute/start/07_faqs_12_0.png"
      }
     },
     "output_type": "execute_result"
    }
   ],
   "source": [
    "from sympy import var\n",
    "\n",
    "r, t, d = var('rate time short_life')\n",
    "r, t, d"
   ]
  },
  {
   "cell_type": "code",
   "execution_count": 10,
   "id": "4290a272",
   "metadata": {},
   "outputs": [
    {
     "data": {
      "image/png": "[encoded data removed]",
      "text/latex": [
       "$\\displaystyle c d$"
      ],
      "text/plain": [
       "c⋅d"
      ]
     },
     "execution_count": 10,
     "metadata": {
      "filenames": {
       "image/png": "/home/runner/work/sympy-book/sympy-book/docs/_build/jupyter_execute/start/07_faqs_13_0.png"
      }
     },
     "output_type": "execute_result"
    }
   ],
   "source": [
    "c, d = var('c d')\n",
    "c*d"
   ]
  },
  {
   "cell_type": "code",
   "execution_count": 11,
   "id": "5f94bf30",
   "metadata": {},
   "outputs": [
    {
     "data": {
      "image/png": "[encoded data removed]",
      "text/latex": [
       "$\\displaystyle \\left( s, \\  t, \\  w\\right)$"
      ],
      "text/plain": [
       "(s, t, w)"
      ]
     },
     "execution_count": 11,
     "metadata": {
      "filenames": {
       "image/png": "/home/runner/work/sympy-book/sympy-book/docs/_build/jupyter_execute/start/07_faqs_14_0.png"
      }
     },
     "output_type": "execute_result"
    }
   ],
   "source": [
    "s, t, w = symbols('s t w')\n",
    "s, t, w"
   ]
  },
  {
   "cell_type": "code",
   "execution_count": 12,
   "id": "ea1c6584",
   "metadata": {},
   "outputs": [
    {
     "data": {
      "image/png": "[encoded data removed]",
      "text/latex": [
       "$\\displaystyle \\left( ww, \\  er, \\  ty\\right)$"
      ],
      "text/plain": [
       "(ww, er, ty)"
      ]
     },
     "execution_count": 12,
     "metadata": {
      "filenames": {
       "image/png": "/home/runner/work/sympy-book/sympy-book/docs/_build/jupyter_execute/start/07_faqs_15_0.png"
      }
     },
     "output_type": "execute_result"
    }
   ],
   "source": [
    "var('ww er, ty')"
   ]
  },
  {
   "cell_type": "code",
   "execution_count": 13,
   "id": "f456c539",
   "metadata": {},
   "outputs": [
    {
     "data": {
      "image/png": "[encoded data removed]",
      "text/latex": [
       "$\\displaystyle ww$"
      ],
      "text/plain": [
       "ww"
      ]
     },
     "execution_count": 13,
     "metadata": {
      "filenames": {
       "image/png": "/home/runner/work/sympy-book/sympy-book/docs/_build/jupyter_execute/start/07_faqs_16_0.png"
      }
     },
     "output_type": "execute_result"
    }
   ],
   "source": [
    "ww"
   ]
  },
  {
   "cell_type": "code",
   "execution_count": 14,
   "id": "f438c794",
   "metadata": {},
   "outputs": [
    {
     "ename": "SyntaxError",
     "evalue": "invalid syntax (<ipython-input-14-16cad0f696ed>, line 2)",
     "output_type": "error",
     "traceback": [
      "\u001b[0;36m  File \u001b[0;32m\"<ipython-input-14-16cad0f696ed>\"\u001b[0;36m, line \u001b[0;32m2\u001b[0m\n\u001b[0;31m    rrt 会报错\u001b[0m\n\u001b[0m        ^\u001b[0m\n\u001b[0;31mSyntaxError\u001b[0m\u001b[0;31m:\u001b[0m invalid syntax\n"
     ]
    }
   ],
   "source": [
    "symbols('rrt')\n",
    "rrt 会报错"
   ]
  },
  {
   "cell_type": "markdown",
   "id": "f303a9a4",
   "metadata": {},
   "source": [
    "推荐使用 `symbols` 创建变量。"
   ]
  },
  {
   "cell_type": "code",
   "execution_count": 15,
   "id": "676df369",
   "metadata": {},
   "outputs": [],
   "source": [
    "x, y, z = symbols('x:z')"
   ]
  },
  {
   "cell_type": "code",
   "execution_count": 16,
   "id": "0f82854b",
   "metadata": {},
   "outputs": [
    {
     "data": {
      "image/png": "[encoded data removed]",
      "text/latex": [
       "$\\displaystyle \\left( x_{0}, \\  x_{1}, \\  x_{2}, \\  x_{3}\\right)$"
      ],
      "text/plain": [
       "(x₀, x₁, x₂, x₃)"
      ]
     },
     "execution_count": 16,
     "metadata": {
      "filenames": {
       "image/png": "/home/runner/work/sympy-book/sympy-book/docs/_build/jupyter_execute/start/07_faqs_20_0.png"
      }
     },
     "output_type": "execute_result"
    }
   ],
   "source": [
    "symbols('x:4')"
   ]
  },
  {
   "cell_type": "markdown",
   "id": "35b16d3c",
   "metadata": {},
   "source": [
    "## 函数"
   ]
  },
  {
   "cell_type": "code",
   "execution_count": 17,
   "id": "720d7c54",
   "metadata": {},
   "outputs": [],
   "source": [
    "from sympy import Function"
   ]
  },
  {
   "cell_type": "code",
   "execution_count": 18,
   "id": "e9bbb62d",
   "metadata": {},
   "outputs": [
    {
     "data": {
      "image/png": "[encoded data removed]",
      "text/latex": [
       "$\\displaystyle f{\\left(x \\right)}$"
      ],
      "text/plain": [
       "f(x)"
      ]
     },
     "execution_count": 18,
     "metadata": {
      "filenames": {
       "image/png": "/home/runner/work/sympy-book/sympy-book/docs/_build/jupyter_execute/start/07_faqs_23_0.png"
      }
     },
     "output_type": "execute_result"
    }
   ],
   "source": [
    "f = Function('f')\n",
    "x = symbols('x')\n",
    "\n",
    "f(x)"
   ]
  },
  {
   "cell_type": "code",
   "execution_count": 19,
   "id": "1e51543e",
   "metadata": {},
   "outputs": [],
   "source": [
    "f1 = Function('f1')\n",
    "f2 = Function('f2')(x)"
   ]
  },
  {
   "cell_type": "markdown",
   "id": "94b03374",
   "metadata": {},
   "source": [
    "$f_1$ 是可调用的，但 $f2$ 不行："
   ]
  },
  {
   "cell_type": "code",
   "execution_count": 20,
   "id": "2812f005",
   "metadata": {},
   "outputs": [
    {
     "data": {
      "image/png": "[encoded data removed]",
      "text/latex": [
       "$\\displaystyle \\left( \\operatorname{f_{1}}{\\left(1 \\right)}, \\  \\operatorname{f_{1}}{\\left(x \\right)}\\right)$"
      ],
      "text/plain": [
       "(f₁(1), f₁(x))"
      ]
     },
     "execution_count": 20,
     "metadata": {
      "filenames": {
       "image/png": "/home/runner/work/sympy-book/sympy-book/docs/_build/jupyter_execute/start/07_faqs_26_0.png"
      }
     },
     "output_type": "execute_result"
    }
   ],
   "source": [
    "f1(1), f1(x)"
   ]
  },
  {
   "cell_type": "code",
   "execution_count": 21,
   "id": "671bb8c3",
   "metadata": {},
   "outputs": [
    {
     "ename": "SyntaxError",
     "evalue": "invalid syntax (<ipython-input-21-6ff94c9ea2c5>, line 1)",
     "output_type": "error",
     "traceback": [
      "\u001b[0;36m  File \u001b[0;32m\"<ipython-input-21-6ff94c9ea2c5>\"\u001b[0;36m, line \u001b[0;32m1\u001b[0m\n\u001b[0;31m    f2(1) 会报错\u001b[0m\n\u001b[0m          ^\u001b[0m\n\u001b[0;31mSyntaxError\u001b[0m\u001b[0;31m:\u001b[0m invalid syntax\n"
     ]
    }
   ],
   "source": [
    "f2(1) 会报错"
   ]
  }
 ],
 "metadata": {
  "jupytext": {
   "formats": "md:myst",
   "text_representation": {
    "extension": ".md",
    "format_name": "myst",
    "format_version": 0.13,
    "jupytext_version": "1.10.3"
   }
  },
  "kernelspec": {
   "display_name": "ai",
   "language": "python",
   "name": "ai"
  },
  "language_info": {
   "codemirror_mode": {
    "name": "ipython",
    "version": 3
   },
   "file_extension": ".py",
   "mimetype": "text/x-python",
   "name": "python",
   "nbconvert_exporter": "python",
   "pygments_lexer": "ipython3",
   "version": "3.8.5"
  },
  "source_map": [
   13,
   21,
   32,
   37,
   39,
   43,
   45,
   49,
   52,
   56,
   61,
   66,
   70,
   77,
   82,
   87,
   91,
   95,
   98,
   102,
   106,
   108,
   112,
   116,
   123,
   126,
   130,
   134
  ]
 },
 "nbformat": 4,
 "nbformat_minor": 5
}