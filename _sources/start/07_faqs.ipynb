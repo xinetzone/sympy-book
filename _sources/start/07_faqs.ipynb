{
 "cells": [
  {
   "cell_type": "markdown",
   "id": "a54cbca7",
   "metadata": {},
   "source": [
    "# 常见问题\n",
    "\n",
    "## 等式使用：`Eq`\n",
    "\n",
    "可以借助 [`expand()`](https://docs.sympy.org/latest/modules/core.html#sympy.core.function.expand \"sympy.core.function.expand\"), [`simplify()`](https://docs.sympy.org/latest/modules/simplify/simplify.html#sympy.simplify.simplify.simplify \"sympy.simplify.simplify.simplify\") 和 [`trigsimp()`](https://docs.sympy.org/latest/modules/simplify/simplify.html#sympy.simplify.trigsimp.trigsimp \"sympy.simplify.trigsimp.trigsimp\") 进行真值判断："
   ]
  },
  {
   "cell_type": "code",
   "execution_count": 1,
   "id": "d3079857",
   "metadata": {},
   "outputs": [
    {
     "data": {
      "text/latex": [
       "$\\displaystyle 0$"
      ],
      "text/plain": [
       "0"
      ]
     },
     "execution_count": 1,
     "metadata": {},
     "output_type": "execute_result"
    }
   ],
   "source": [
    "import warnings\n",
    "from sympy import *\n",
    "\n",
    "warnings.filterwarnings('ignore')\n",
    "\n",
    "x = symbols('x')\n",
    "simplify((x + 1)**2 - (x**2 + 2*x + 1))"
   ]
  },
  {
   "cell_type": "code",
   "execution_count": 2,
   "id": "63369269",
   "metadata": {},
   "outputs": [
    {
     "data": {
      "text/latex": [
       "$\\displaystyle 0$"
      ],
      "text/plain": [
       "0"
      ]
     },
     "execution_count": 2,
     "metadata": {},
     "output_type": "execute_result"
    }
   ],
   "source": [
    "eq = sin(2*x) - 2*sin(x)*cos(x)\n",
    "simplify(eq)"
   ]
  },
  {
   "cell_type": "code",
   "execution_count": 3,
   "id": "cc4e2d8f",
   "metadata": {},
   "outputs": [
    {
     "data": {
      "text/latex": [
       "$\\displaystyle 0$"
      ],
      "text/plain": [
       "0"
      ]
     },
     "execution_count": 3,
     "metadata": {},
     "output_type": "execute_result"
    }
   ],
   "source": [
    "expand(eq, trig=True)"
   ]
  },
  {
   "cell_type": "markdown",
   "id": "bfe62a41",
   "metadata": {},
   "source": [
    "## 变量"
   ]
  },
  {
   "cell_type": "code",
   "execution_count": 4,
   "id": "894146a0",
   "metadata": {},
   "outputs": [],
   "source": [
    "from sympy import Symbol"
   ]
  },
  {
   "cell_type": "markdown",
   "id": "c11d9ea4",
   "metadata": {},
   "source": [
    "符号 $a$ 被存储为变量： \"`a`\""
   ]
  },
  {
   "cell_type": "code",
   "execution_count": 5,
   "id": "c577a141",
   "metadata": {},
   "outputs": [
    {
     "data": {
      "text/latex": [
       "$\\displaystyle a$"
      ],
      "text/plain": [
       "a"
      ]
     },
     "execution_count": 5,
     "metadata": {},
     "output_type": "execute_result"
    }
   ],
   "source": [
    "a = Symbol('a')\n",
    "a"
   ]
  },
  {
   "cell_type": "markdown",
   "id": "691aea0a",
   "metadata": {},
   "source": [
    "将包含符号 $a$ 的表达式存储为变量 \"`b`\""
   ]
  },
  {
   "cell_type": "code",
   "execution_count": 6,
   "id": "00ea0147",
   "metadata": {},
   "outputs": [
    {
     "data": {
      "text/latex": [
       "$\\displaystyle a + 1$"
      ],
      "text/plain": [
       "a + 1"
      ]
     },
     "execution_count": 6,
     "metadata": {},
     "output_type": "execute_result"
    }
   ],
   "source": [
    "b = a + 1\n",
    "b"
   ]
  },
  {
   "cell_type": "code",
   "execution_count": 7,
   "id": "38def307",
   "metadata": {},
   "outputs": [
    {
     "data": {
      "text/plain": [
       "4"
      ]
     },
     "execution_count": 7,
     "metadata": {},
     "output_type": "execute_result"
    }
   ],
   "source": [
    "a = 4\n",
    "a"
   ]
  },
  {
   "cell_type": "code",
   "execution_count": 8,
   "id": "d00119cd",
   "metadata": {},
   "outputs": [
    {
     "data": {
      "text/latex": [
       "$\\displaystyle a + 1$"
      ],
      "text/plain": [
       "a + 1"
      ]
     },
     "execution_count": 8,
     "metadata": {},
     "output_type": "execute_result"
    }
   ],
   "source": [
    "b"
   ]
  },
  {
   "cell_type": "code",
   "execution_count": 9,
   "id": "209ef255",
   "metadata": {},
   "outputs": [
    {
     "data": {
      "text/plain": [
       "(rate, time, short_life)"
      ]
     },
     "execution_count": 9,
     "metadata": {},
     "output_type": "execute_result"
    }
   ],
   "source": [
    "from sympy import var\n",
    "\n",
    "r, t, d = var('rate time short_life')\n",
    "r, t, d"
   ]
  },
  {
   "cell_type": "code",
   "execution_count": 10,
   "id": "895980ff",
   "metadata": {},
   "outputs": [
    {
     "data": {
      "text/latex": [
       "$\\displaystyle c d$"
      ],
      "text/plain": [
       "c*d"
      ]
     },
     "execution_count": 10,
     "metadata": {},
     "output_type": "execute_result"
    }
   ],
   "source": [
    "c, d = var('c d')\n",
    "c*d"
   ]
  },
  {
   "cell_type": "code",
   "execution_count": 11,
   "id": "fd2ff75c",
   "metadata": {},
   "outputs": [
    {
     "data": {
      "text/plain": [
       "(s, t, w)"
      ]
     },
     "execution_count": 11,
     "metadata": {},
     "output_type": "execute_result"
    }
   ],
   "source": [
    "s, t, w = symbols('s t w')\n",
    "s, t, w"
   ]
  },
  {
   "cell_type": "code",
   "execution_count": 12,
   "id": "a3f80728",
   "metadata": {},
   "outputs": [
    {
     "data": {
      "text/plain": [
       "(ww, er, ty)"
      ]
     },
     "execution_count": 12,
     "metadata": {},
     "output_type": "execute_result"
    }
   ],
   "source": [
    "var('ww er, ty')"
   ]
  },
  {
   "cell_type": "code",
   "execution_count": 13,
   "id": "2136f8d6",
   "metadata": {},
   "outputs": [
    {
     "data": {
      "text/latex": [
       "$\\displaystyle ww$"
      ],
      "text/plain": [
       "ww"
      ]
     },
     "execution_count": 13,
     "metadata": {},
     "output_type": "execute_result"
    }
   ],
   "source": [
    "ww"
   ]
  },
  {
   "cell_type": "code",
   "execution_count": 14,
   "id": "0030c748",
   "metadata": {},
   "outputs": [
    {
     "ename": "SyntaxError",
     "evalue": "invalid syntax (<ipython-input-14-16cad0f696ed>, line 2)",
     "output_type": "error",
     "traceback": [
      "\u001b[0;36m  File \u001b[0;32m\"<ipython-input-14-16cad0f696ed>\"\u001b[0;36m, line \u001b[0;32m2\u001b[0m\n\u001b[0;31m    rrt 会报错\u001b[0m\n\u001b[0m        ^\u001b[0m\n\u001b[0;31mSyntaxError\u001b[0m\u001b[0;31m:\u001b[0m invalid syntax\n"
     ]
    }
   ],
   "source": [
    "symbols('rrt')\n",
    "rrt 会报错"
   ]
  },
  {
   "cell_type": "markdown",
   "id": "5d73597b",
   "metadata": {},
   "source": [
    "推荐使用 `symbols` 创建变量。"
   ]
  },
  {
   "cell_type": "code",
   "execution_count": 15,
   "id": "045aec81",
   "metadata": {},
   "outputs": [],
   "source": [
    "x, y, z = symbols('x:z')"
   ]
  },
  {
   "cell_type": "code",
   "execution_count": 16,
   "id": "b859124b",
   "metadata": {},
   "outputs": [
    {
     "data": {
      "text/plain": [
       "(x0, x1, x2, x3)"
      ]
     },
     "execution_count": 16,
     "metadata": {},
     "output_type": "execute_result"
    }
   ],
   "source": [
    "symbols('x:4')"
   ]
  },
  {
   "cell_type": "markdown",
   "id": "cca0ce52",
   "metadata": {},
   "source": [
    "## 函数"
   ]
  },
  {
   "cell_type": "code",
   "execution_count": 17,
   "id": "c21b00a2",
   "metadata": {},
   "outputs": [],
   "source": [
    "from sympy import Function"
   ]
  },
  {
   "cell_type": "code",
   "execution_count": 18,
   "id": "a1678733",
   "metadata": {},
   "outputs": [
    {
     "data": {
      "text/latex": [
       "$\\displaystyle f{\\left(x \\right)}$"
      ],
      "text/plain": [
       "f(x)"
      ]
     },
     "execution_count": 18,
     "metadata": {},
     "output_type": "execute_result"
    }
   ],
   "source": [
    "f = Function('f')\n",
    "x = symbols('x')\n",
    "\n",
    "f(x)"
   ]
  },
  {
   "cell_type": "code",
   "execution_count": 19,
   "id": "77b4b583",
   "metadata": {},
   "outputs": [],
   "source": [
    "f1 = Function('f1')\n",
    "f2 = Function('f2')(x)"
   ]
  },
  {
   "cell_type": "markdown",
   "id": "d4b9e585",
   "metadata": {},
   "source": [
    "$f_1$ 是可调用的，但 $f2$ 不行："
   ]
  },
  {
   "cell_type": "code",
   "execution_count": 20,
   "id": "35ad888b",
   "metadata": {},
   "outputs": [
    {
     "data": {
      "text/plain": [
       "(f1(1), f1(x))"
      ]
     },
     "execution_count": 20,
     "metadata": {},
     "output_type": "execute_result"
    }
   ],
   "source": [
    "f1(1), f1(x)"
   ]
  },
  {
   "cell_type": "code",
   "execution_count": 21,
   "id": "0f5c4da9",
   "metadata": {},
   "outputs": [
    {
     "ename": "SyntaxError",
     "evalue": "invalid syntax (<ipython-input-21-6ff94c9ea2c5>, line 1)",
     "output_type": "error",
     "traceback": [
      "\u001b[0;36m  File \u001b[0;32m\"<ipython-input-21-6ff94c9ea2c5>\"\u001b[0;36m, line \u001b[0;32m1\u001b[0m\n\u001b[0;31m    f2(1) 会报错\u001b[0m\n\u001b[0m          ^\u001b[0m\n\u001b[0;31mSyntaxError\u001b[0m\u001b[0;31m:\u001b[0m invalid syntax\n"
     ]
    }
   ],
   "source": [
    "f2(1) 会报错"
   ]
  }
 ],
 "metadata": {
  "jupytext": {
   "formats": "md:myst",
   "text_representation": {
    "extension": ".md",
    "format_name": "myst",
    "format_version": 0.13,
    "jupytext_version": "1.10.3"
   }
  },
  "kernelspec": {
   "display_name": "ai",
   "language": "python",
   "name": "ai"
  },
  "language_info": {
   "codemirror_mode": {
    "name": "ipython",
    "version": 3
   },
   "file_extension": ".py",
   "mimetype": "text/x-python",
   "name": "python",
   "nbconvert_exporter": "python",
   "pygments_lexer": "ipython3",
   "version": "3.8.5"
  },
  "source_map": [
   13,
   21,
   31,
   36,
   38,
   42,
   44,
   48,
   51,
   55,
   60,
   65,
   69,
   76,
   81,
   86,
   90,
   94,
   97,
   101,
   105,
   107,
   111,
   115,
   122,
   125,
   129,
   133
  ]
 },
 "nbformat": 4,
 "nbformat_minor": 5
}