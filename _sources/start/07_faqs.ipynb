{
 "cells": [
  {
   "cell_type": "markdown",
   "id": "0276079d",
   "metadata": {},
   "source": [
    "# 常见问题\n",
    "\n",
    "## 等式使用：`Eq`\n",
    "\n",
    "可以借助 [`expand()`](https://docs.sympy.org/latest/modules/core.html#sympy.core.function.expand \"sympy.core.function.expand\"), [`simplify()`](https://docs.sympy.org/latest/modules/simplify/simplify.html#sympy.simplify.simplify.simplify \"sympy.simplify.simplify.simplify\") 和 [`trigsimp()`](https://docs.sympy.org/latest/modules/simplify/simplify.html#sympy.simplify.trigsimp.trigsimp \"sympy.simplify.trigsimp.trigsimp\") 进行真值判断："
   ]
  },
  {
   "cell_type": "code",
   "execution_count": 1,
   "id": "1bd673d3",
   "metadata": {},
   "outputs": [
    {
     "data": {
      "text/latex": [
       "$\\displaystyle 0$"
      ],
      "text/plain": [
       "0"
      ]
     },
     "execution_count": 1,
     "metadata": {},
     "output_type": "execute_result"
    }
   ],
   "source": [
    "import warnings\n",
    "from sympy import *\n",
    "\n",
    "warnings.filterwarnings('ignore')\n",
    "\n",
    "x = symbols('x')\n",
    "simplify((x + 1)**2 - (x**2 + 2*x + 1))"
   ]
  },
  {
   "cell_type": "code",
   "execution_count": 2,
   "id": "31583e81",
   "metadata": {},
   "outputs": [
    {
     "data": {
      "text/latex": [
       "$\\displaystyle 0$"
      ],
      "text/plain": [
       "0"
      ]
     },
     "execution_count": 2,
     "metadata": {},
     "output_type": "execute_result"
    }
   ],
   "source": [
    "eq = sin(2*x) - 2*sin(x)*cos(x)\n",
    "simplify(eq)"
   ]
  },
  {
   "cell_type": "code",
   "execution_count": 3,
   "id": "ce38373c",
   "metadata": {},
   "outputs": [
    {
     "data": {
      "text/latex": [
       "$\\displaystyle 0$"
      ],
      "text/plain": [
       "0"
      ]
     },
     "execution_count": 3,
     "metadata": {},
     "output_type": "execute_result"
    }
   ],
   "source": [
    "expand(eq, trig=True)"
   ]
  },
  {
   "cell_type": "markdown",
   "id": "8cf5d1c5",
   "metadata": {},
   "source": [
    "## 变量"
   ]
  },
  {
   "cell_type": "code",
   "execution_count": 4,
   "id": "e70db822",
   "metadata": {},
   "outputs": [],
   "source": [
    "from sympy import Symbol"
   ]
  },
  {
   "cell_type": "markdown",
   "id": "efb94695",
   "metadata": {},
   "source": [
    "符号 $a$ 被存储为变量： \"`a`\""
   ]
  },
  {
   "cell_type": "code",
   "execution_count": 5,
   "id": "2bc58732",
   "metadata": {},
   "outputs": [
    {
     "data": {
      "text/latex": [
       "$\\displaystyle a$"
      ],
      "text/plain": [
       "a"
      ]
     },
     "execution_count": 5,
     "metadata": {},
     "output_type": "execute_result"
    }
   ],
   "source": [
    "a = Symbol('a')\n",
    "a"
   ]
  },
  {
   "cell_type": "markdown",
   "id": "052f476f",
   "metadata": {},
   "source": [
    "将包含符号 $a$ 的表达式存储为变量 \"`b`\""
   ]
  },
  {
   "cell_type": "code",
   "execution_count": 6,
   "id": "1be461de",
   "metadata": {},
   "outputs": [
    {
     "data": {
      "text/latex": [
       "$\\displaystyle a + 1$"
      ],
      "text/plain": [
       "a + 1"
      ]
     },
     "execution_count": 6,
     "metadata": {},
     "output_type": "execute_result"
    }
   ],
   "source": [
    "b = a + 1\n",
    "b"
   ]
  },
  {
   "cell_type": "code",
   "execution_count": 7,
   "id": "d5fb030e",
   "metadata": {},
   "outputs": [
    {
     "data": {
      "text/plain": [
       "4"
      ]
     },
     "execution_count": 7,
     "metadata": {},
     "output_type": "execute_result"
    }
   ],
   "source": [
    "a = 4\n",
    "a"
   ]
  },
  {
   "cell_type": "code",
   "execution_count": 8,
   "id": "8f3a3ea9",
   "metadata": {},
   "outputs": [
    {
     "data": {
      "text/latex": [
       "$\\displaystyle a + 1$"
      ],
      "text/plain": [
       "a + 1"
      ]
     },
     "execution_count": 8,
     "metadata": {},
     "output_type": "execute_result"
    }
   ],
   "source": [
    "b"
   ]
  },
  {
   "cell_type": "code",
   "execution_count": 9,
   "id": "0252dd64",
   "metadata": {},
   "outputs": [
    {
     "data": {
      "text/plain": [
       "(rate, time, short_life)"
      ]
     },
     "execution_count": 9,
     "metadata": {},
     "output_type": "execute_result"
    }
   ],
   "source": [
    "from sympy import var\n",
    "\n",
    "r, t, d = var('rate time short_life')\n",
    "r, t, d"
   ]
  },
  {
   "cell_type": "code",
   "execution_count": 10,
   "id": "3e6c2e39",
   "metadata": {},
   "outputs": [
    {
     "data": {
      "text/latex": [
       "$\\displaystyle c d$"
      ],
      "text/plain": [
       "c*d"
      ]
     },
     "execution_count": 10,
     "metadata": {},
     "output_type": "execute_result"
    }
   ],
   "source": [
    "c, d = var('c d')\n",
    "c*d"
   ]
  },
  {
   "cell_type": "code",
   "execution_count": 11,
   "id": "1c3cbae1",
   "metadata": {},
   "outputs": [
    {
     "data": {
      "text/plain": [
       "(s, t, w)"
      ]
     },
     "execution_count": 11,
     "metadata": {},
     "output_type": "execute_result"
    }
   ],
   "source": [
    "s, t, w = symbols('s t w')\n",
    "s, t, w"
   ]
  },
  {
   "cell_type": "code",
   "execution_count": 12,
   "id": "0a9c5f67",
   "metadata": {},
   "outputs": [
    {
     "data": {
      "text/plain": [
       "(ww, er, ty)"
      ]
     },
     "execution_count": 12,
     "metadata": {},
     "output_type": "execute_result"
    }
   ],
   "source": [
    "var('ww er, ty')"
   ]
  },
  {
   "cell_type": "code",
   "execution_count": 13,
   "id": "e5a84378",
   "metadata": {},
   "outputs": [
    {
     "data": {
      "text/latex": [
       "$\\displaystyle ww$"
      ],
      "text/plain": [
       "ww"
      ]
     },
     "execution_count": 13,
     "metadata": {},
     "output_type": "execute_result"
    }
   ],
   "source": [
    "ww"
   ]
  },
  {
   "cell_type": "code",
   "execution_count": 14,
   "id": "0c039481",
   "metadata": {},
   "outputs": [
    {
     "ename": "SyntaxError",
     "evalue": "invalid syntax (<ipython-input-14-16cad0f696ed>, line 2)",
     "output_type": "error",
     "traceback": [
      "\u001b[0;36m  File \u001b[0;32m\"<ipython-input-14-16cad0f696ed>\"\u001b[0;36m, line \u001b[0;32m2\u001b[0m\n\u001b[0;31m    rrt 会报错\u001b[0m\n\u001b[0m        ^\u001b[0m\n\u001b[0;31mSyntaxError\u001b[0m\u001b[0;31m:\u001b[0m invalid syntax\n"
     ]
    }
   ],
   "source": [
    "symbols('rrt')\n",
    "rrt 会报错"
   ]
  },
  {
   "cell_type": "markdown",
   "id": "69a37223",
   "metadata": {},
   "source": [
    "推荐使用 `symbols` 创建变量。"
   ]
  },
  {
   "cell_type": "code",
   "execution_count": 15,
   "id": "31972a70",
   "metadata": {},
   "outputs": [],
   "source": [
    "x, y, z = symbols('x:z')"
   ]
  },
  {
   "cell_type": "code",
   "execution_count": 16,
   "id": "87262191",
   "metadata": {},
   "outputs": [
    {
     "data": {
      "text/plain": [
       "(x0, x1, x2, x3)"
      ]
     },
     "execution_count": 16,
     "metadata": {},
     "output_type": "execute_result"
    }
   ],
   "source": [
    "symbols('x:4')"
   ]
  },
  {
   "cell_type": "markdown",
   "id": "6e6d2ba8",
   "metadata": {},
   "source": [
    "## 函数"
   ]
  },
  {
   "cell_type": "code",
   "execution_count": 17,
   "id": "1eef7327",
   "metadata": {},
   "outputs": [],
   "source": [
    "from sympy import Function"
   ]
  },
  {
   "cell_type": "code",
   "execution_count": 18,
   "id": "99824f34",
   "metadata": {},
   "outputs": [
    {
     "data": {
      "text/latex": [
       "$\\displaystyle f{\\left(x \\right)}$"
      ],
      "text/plain": [
       "f(x)"
      ]
     },
     "execution_count": 18,
     "metadata": {},
     "output_type": "execute_result"
    }
   ],
   "source": [
    "f = Function('f')\n",
    "x = symbols('x')\n",
    "\n",
    "f(x)"
   ]
  },
  {
   "cell_type": "code",
   "execution_count": 19,
   "id": "2d1aa214",
   "metadata": {},
   "outputs": [],
   "source": [
    "f1 = Function('f1')\n",
    "f2 = Function('f2')(x)"
   ]
  },
  {
   "cell_type": "markdown",
   "id": "1c1cd91e",
   "metadata": {},
   "source": [
    "$f_1$ 是可调用的，但 $f2$ 不行："
   ]
  },
  {
   "cell_type": "code",
   "execution_count": 20,
   "id": "e3039a95",
   "metadata": {},
   "outputs": [
    {
     "data": {
      "text/plain": [
       "(f1(1), f1(x))"
      ]
     },
     "execution_count": 20,
     "metadata": {},
     "output_type": "execute_result"
    }
   ],
   "source": [
    "f1(1), f1(x)"
   ]
  },
  {
   "cell_type": "code",
   "execution_count": 21,
   "id": "58645b51",
   "metadata": {},
   "outputs": [
    {
     "ename": "SyntaxError",
     "evalue": "invalid syntax (<ipython-input-21-6ff94c9ea2c5>, line 1)",
     "output_type": "error",
     "traceback": [
      "\u001b[0;36m  File \u001b[0;32m\"<ipython-input-21-6ff94c9ea2c5>\"\u001b[0;36m, line \u001b[0;32m1\u001b[0m\n\u001b[0;31m    f2(1) 会报错\u001b[0m\n\u001b[0m          ^\u001b[0m\n\u001b[0;31mSyntaxError\u001b[0m\u001b[0;31m:\u001b[0m invalid syntax\n"
     ]
    }
   ],
   "source": [
    "f2(1) 会报错"
   ]
  }
 ],
 "metadata": {
  "jupytext": {
   "formats": "md:myst",
   "text_representation": {
    "extension": ".md",
    "format_name": "myst",
    "format_version": 0.13,
    "jupytext_version": "1.10.3"
   }
  },
  "kernelspec": {
   "display_name": "ai",
   "language": "python",
   "name": "ai"
  },
  "language_info": {
   "codemirror_mode": {
    "name": "ipython",
    "version": 3
   },
   "file_extension": ".py",
   "mimetype": "text/x-python",
   "name": "python",
   "nbconvert_exporter": "python",
   "pygments_lexer": "ipython3",
   "version": "3.8.5"
  },
  "source_map": [
   13,
   21,
   31,
   36,
   38,
   42,
   44,
   48,
   51,
   55,
   60,
   65,
   69,
   76,
   81,
   86,
   90,
   94,
   97,
   101,
   105,
   107,
   111,
   115,
   122,
   125,
   129,
   133
  ]
 },
 "nbformat": 4,
 "nbformat_minor": 5
}