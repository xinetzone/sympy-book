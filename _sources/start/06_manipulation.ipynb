{
 "cells": [
  {
   "cell_type": "markdown",
   "id": "53d5dfd6",
   "metadata": {},
   "source": [
    "# 高级表达式操作\n",
    "\n",
    "参考 [Advanced Expression Manipulation](https://docs.sympy.org/latest/tutorial/manipulation.html)\n",
    "\n",
    "在本节中，我们将讨论一些可以对表达式执行高级操作的方法。\n",
    "\n",
    "## 理解表达式树\n",
    "\n",
    "在我们这样做之前，我们需要了解表达式在 SymPy 中是如何表示的。数学表达式表示为一棵树。让我们采用表达式 $x^2+xy$，即 `x**2 + x*y`。我们可以通过使用 `srepr` 在内部看到这个表达式的样子"
   ]
  },
  {
   "cell_type": "code",
   "execution_count": 1,
   "id": "00b27d3d",
   "metadata": {},
   "outputs": [
    {
     "ename": "ModuleNotFoundError",
     "evalue": "No module named 'pydot'",
     "output_type": "error",
     "traceback": [
      "\u001b[1;31m---------------------------------------------------------------------------\u001b[0m",
      "\u001b[1;31mModuleNotFoundError\u001b[0m                       Traceback (most recent call last)",
      "\u001b[1;32m<ipython-input-1-fa565b96c54e>\u001b[0m in \u001b[0;36m<module>\u001b[1;34m\u001b[0m\n\u001b[0;32m      1\u001b[0m \u001b[1;32mimport\u001b[0m \u001b[0mwarnings\u001b[0m\u001b[1;33m\u001b[0m\u001b[1;33m\u001b[0m\u001b[0m\n\u001b[0;32m      2\u001b[0m \u001b[1;32mfrom\u001b[0m \u001b[0msympy\u001b[0m \u001b[1;32mimport\u001b[0m \u001b[1;33m*\u001b[0m\u001b[1;33m\u001b[0m\u001b[1;33m\u001b[0m\u001b[0m\n\u001b[1;32m----> 3\u001b[1;33m \u001b[1;32mimport\u001b[0m \u001b[0mpydot\u001b[0m\u001b[1;33m\u001b[0m\u001b[1;33m\u001b[0m\u001b[0m\n\u001b[0m\u001b[0;32m      4\u001b[0m \u001b[1;32mfrom\u001b[0m \u001b[0mIPython\u001b[0m\u001b[1;33m.\u001b[0m\u001b[0mdisplay\u001b[0m \u001b[1;32mimport\u001b[0m \u001b[0mSVG\u001b[0m\u001b[1;33m\u001b[0m\u001b[1;33m\u001b[0m\u001b[0m\n\u001b[0;32m      5\u001b[0m \u001b[1;33m\u001b[0m\u001b[0m\n",
      "\u001b[1;31mModuleNotFoundError\u001b[0m: No module named 'pydot'"
     ]
    }
   ],
   "source": [
    "import warnings\n",
    "from sympy import *\n",
    "import pydot\n",
    "from IPython.display import SVG\n",
    "\n",
    "warnings.filterwarnings('ignore')\n",
    "\n",
    "def display_dot(expr):\n",
    "    g = pydot.graph_from_dot_data(dotprint(expr))[0]\n",
    "    g.set_bgcolor('lightyellow')\n",
    "    t = SVG(g.create_svg())\n",
    "    return t"
   ]
  },
  {
   "cell_type": "code",
   "execution_count": 2,
   "id": "396c16b3",
   "metadata": {},
   "outputs": [
    {
     "data": {
      "text/plain": [
       "\"Add(Pow(Symbol('x'), Integer(2)), Mul(Symbol('x'), Symbol('y')))\""
      ]
     },
     "execution_count": 2,
     "metadata": {},
     "output_type": "execute_result"
    }
   ],
   "source": [
    "x, y, z = symbols('x y z')\n",
    "\n",
    "expr = x**2 + x*y\n",
    "srepr(expr)"
   ]
  },
  {
   "cell_type": "markdown",
   "id": "c58172fa",
   "metadata": {},
   "source": [
    "拆解这个最简单的方法是查看表达式树的图表："
   ]
  },
  {
   "cell_type": "code",
   "execution_count": 3,
   "id": "a4fb738b",
   "metadata": {},
   "outputs": [
    {
     "ename": "NameError",
     "evalue": "name 'display_dot' is not defined",
     "output_type": "error",
     "traceback": [
      "\u001b[1;31m---------------------------------------------------------------------------\u001b[0m",
      "\u001b[1;31mNameError\u001b[0m                                 Traceback (most recent call last)",
      "\u001b[1;32m<ipython-input-3-23e704996809>\u001b[0m in \u001b[0;36m<module>\u001b[1;34m\u001b[0m\n\u001b[1;32m----> 1\u001b[1;33m \u001b[0mdisplay_dot\u001b[0m\u001b[1;33m(\u001b[0m\u001b[0mexpr\u001b[0m\u001b[1;33m)\u001b[0m\u001b[1;33m\u001b[0m\u001b[1;33m\u001b[0m\u001b[0m\n\u001b[0m",
      "\u001b[1;31mNameError\u001b[0m: name 'display_dot' is not defined"
     ]
    }
   ],
   "source": [
    "display_dot(expr)"
   ]
  },
  {
   "cell_type": "markdown",
   "id": "de662758",
   "metadata": {},
   "source": [
    "```{note}\n",
    "上图是使用 [Graphviz](http://www.graphviz.org/) 和 [`dotprint`](https://docs.sympy.org/latest/modules/printing.html#sympy.printing.dot.dotprint \"sympy.printing.dot.dotprint\") 函数制作的。\n",
    "```"
   ]
  },
  {
   "cell_type": "markdown",
   "id": "d8fdd7e5",
   "metadata": {},
   "source": [
    "首先，让我们看看这棵树的叶子。符号是类 `Symbol` 的实例。虽然我们一直在做"
   ]
  },
  {
   "cell_type": "code",
   "execution_count": 4,
   "id": "8e6a09a9",
   "metadata": {},
   "outputs": [],
   "source": [
    "x = symbols('x')"
   ]
  },
  {
   "cell_type": "markdown",
   "id": "396bad3f",
   "metadata": {},
   "source": [
    "我们也可以做到"
   ]
  },
  {
   "cell_type": "code",
   "execution_count": 5,
   "id": "309ff814",
   "metadata": {},
   "outputs": [],
   "source": [
    "x = Symbol('x')"
   ]
  },
  {
   "cell_type": "markdown",
   "id": "3c512313",
   "metadata": {},
   "source": [
    "无论哪种方式，我们都会得到一个名为“x”的 Symbol。对于表达式中的数字 2，我们得到了 `Integer(2)`。`Integer` 是整数的 SymPy 类。它类似于 Python 的内置类型 `int`，不同之处在于 `Integer` 可以很好地与其他 SymPy 类型一起使用。\n",
    "\n",
    "当我们写 `x**2` 时，这会创建一个 `Pow` 对象。`Pow` 是“power”的缩写。"
   ]
  },
  {
   "cell_type": "code",
   "execution_count": 6,
   "id": "0a3f8a73",
   "metadata": {},
   "outputs": [
    {
     "data": {
      "text/plain": [
       "\"Pow(Symbol('x'), Integer(2))\""
      ]
     },
     "execution_count": 6,
     "metadata": {},
     "output_type": "execute_result"
    }
   ],
   "source": [
    "srepr(x**2)"
   ]
  },
  {
   "cell_type": "code",
   "execution_count": 7,
   "id": "547f8d2f",
   "metadata": {},
   "outputs": [
    {
     "ename": "NameError",
     "evalue": "name 'display_dot' is not defined",
     "output_type": "error",
     "traceback": [
      "\u001b[1;31m---------------------------------------------------------------------------\u001b[0m",
      "\u001b[1;31mNameError\u001b[0m                                 Traceback (most recent call last)",
      "\u001b[1;32m<ipython-input-7-d69e3d2afdc7>\u001b[0m in \u001b[0;36m<module>\u001b[1;34m\u001b[0m\n\u001b[1;32m----> 1\u001b[1;33m \u001b[0mdisplay_dot\u001b[0m\u001b[1;33m(\u001b[0m\u001b[0mx\u001b[0m\u001b[1;33m**\u001b[0m\u001b[1;36m2\u001b[0m\u001b[1;33m)\u001b[0m\u001b[1;33m\u001b[0m\u001b[1;33m\u001b[0m\u001b[0m\n\u001b[0m",
      "\u001b[1;31mNameError\u001b[0m: name 'display_dot' is not defined"
     ]
    }
   ],
   "source": [
    "display_dot(x**2)"
   ]
  },
  {
   "cell_type": "markdown",
   "id": "de2175c0",
   "metadata": {},
   "source": [
    "我们可以通过调用 `Pow(x, 2)` 创建相同的对象"
   ]
  },
  {
   "cell_type": "code",
   "execution_count": 8,
   "id": "c7e3bd03",
   "metadata": {},
   "outputs": [
    {
     "data": {
      "text/latex": [
       "$\\displaystyle x^{2}$"
      ],
      "text/plain": [
       "x**2"
      ]
     },
     "execution_count": 8,
     "metadata": {},
     "output_type": "execute_result"
    }
   ],
   "source": [
    "Pow(x, 2)"
   ]
  },
  {
   "cell_type": "markdown",
   "id": "5b0f1831",
   "metadata": {},
   "source": [
    "其他的运算以此类推："
   ]
  },
  {
   "cell_type": "code",
   "execution_count": 9,
   "id": "566f64da",
   "metadata": {},
   "outputs": [
    {
     "data": {
      "text/latex": [
       "$\\displaystyle - x^{2} + \\frac{\\sin{\\left(x y \\right)}}{2} + \\frac{1}{y}$"
      ],
      "text/plain": [
       "-x**2 + sin(x*y)/2 + 1/y"
      ]
     },
     "execution_count": 9,
     "metadata": {},
     "output_type": "execute_result"
    }
   ],
   "source": [
    "expr = sin(x*y)/2 - x**2 + 1/y\n",
    "expr"
   ]
  },
  {
   "cell_type": "code",
   "execution_count": 10,
   "id": "a963f4bb",
   "metadata": {},
   "outputs": [
    {
     "data": {
      "text/plain": [
       "\"Add(Mul(Integer(-1), Pow(Symbol('x'), Integer(2))), Mul(Rational(1, 2), sin(Mul(Symbol('x'), Symbol('y')))), Pow(Symbol('y'), Integer(-1)))\""
      ]
     },
     "execution_count": 10,
     "metadata": {},
     "output_type": "execute_result"
    }
   ],
   "source": [
    "srepr(expr)"
   ]
  },
  {
   "cell_type": "code",
   "execution_count": 11,
   "id": "3864602b",
   "metadata": {},
   "outputs": [
    {
     "ename": "NameError",
     "evalue": "name 'display_dot' is not defined",
     "output_type": "error",
     "traceback": [
      "\u001b[1;31m---------------------------------------------------------------------------\u001b[0m",
      "\u001b[1;31mNameError\u001b[0m                                 Traceback (most recent call last)",
      "\u001b[1;32m<ipython-input-11-23e704996809>\u001b[0m in \u001b[0;36m<module>\u001b[1;34m\u001b[0m\n\u001b[1;32m----> 1\u001b[1;33m \u001b[0mdisplay_dot\u001b[0m\u001b[1;33m(\u001b[0m\u001b[0mexpr\u001b[0m\u001b[1;33m)\u001b[0m\u001b[1;33m\u001b[0m\u001b[1;33m\u001b[0m\u001b[0m\n\u001b[0m",
      "\u001b[1;31mNameError\u001b[0m: name 'display_dot' is not defined"
     ]
    }
   ],
   "source": [
    "display_dot(expr)"
   ]
  },
  {
   "cell_type": "code",
   "execution_count": null,
   "id": "75d598e0",
   "metadata": {},
   "outputs": [],
   "source": []
  }
 ],
 "metadata": {
  "jupytext": {
   "formats": "md:myst",
   "text_representation": {
    "extension": ".md",
    "format_name": "myst",
    "format_version": 0.13,
    "jupytext_version": "1.10.3"
   }
  },
  "kernelspec": {
   "display_name": "ai",
   "language": "python",
   "name": "ai"
  },
  "language_info": {
   "codemirror_mode": {
    "name": "ipython",
    "version": 3
   },
   "file_extension": ".py",
   "mimetype": "text/x-python",
   "name": "python",
   "nbconvert_exporter": "python",
   "pygments_lexer": "ipython3",
   "version": "3.9.5"
  },
  "source_map": [
   13,
   25,
   40,
   45,
   49,
   51,
   57,
   61,
   63,
   67,
   69,
   75,
   79,
   81,
   85,
   87,
   91,
   96,
   100,
   104
  ]
 },
 "nbformat": 4,
 "nbformat_minor": 5
}