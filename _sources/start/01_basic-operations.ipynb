{
 "cells": [
  {
   "cell_type": "markdown",
   "id": "1c15b77a",
   "metadata": {},
   "source": [
    "# 基本运算\n",
    "\n",
    "定义一些基本数学变量："
   ]
  },
  {
   "cell_type": "code",
   "execution_count": 1,
   "id": "7ecb7355",
   "metadata": {},
   "outputs": [],
   "source": [
    "import warnings\n",
    "from sympy import *\n",
    "\n",
    "warnings.filterwarnings('ignore')\n",
    "# init_printing()\n",
    "\n",
    "x, y, z = symbols('x y z')"
   ]
  },
  {
   "cell_type": "markdown",
   "id": "44b6f3bb",
   "metadata": {},
   "source": [
    "## 置换\n",
    "\n",
    "置换（substitution）即把某个变量替换为另一个变量。使用 `subs` 方法实现："
   ]
  },
  {
   "cell_type": "code",
   "execution_count": 2,
   "id": "2819a1cf",
   "metadata": {},
   "outputs": [
    {
     "data": {
      "text/latex": [
       "$\\displaystyle \\cos{\\left(y \\right)} + 1$"
      ],
      "text/plain": [
       "cos(y) + 1"
      ]
     },
     "execution_count": 2,
     "metadata": {},
     "output_type": "execute_result"
    }
   ],
   "source": [
    "expr = cos(x) + 1\n",
    "expr.subs(x, y) # x 置换为 y"
   ]
  },
  {
   "cell_type": "markdown",
   "id": "a85ae8c5",
   "metadata": {},
   "source": [
    "需要**置换**的场景：\n",
    "\n",
    "1. 求解具体的表达式代表的值，比如："
   ]
  },
  {
   "cell_type": "code",
   "execution_count": 3,
   "id": "866cfb43",
   "metadata": {},
   "outputs": [
    {
     "data": {
      "text/latex": [
       "$\\displaystyle 2$"
      ],
      "text/plain": [
       "2"
      ]
     },
     "execution_count": 3,
     "metadata": {},
     "output_type": "execute_result"
    }
   ],
   "source": [
    "expr.subs(x, 0)"
   ]
  },
  {
   "cell_type": "markdown",
   "id": "bfe484ea",
   "metadata": {},
   "source": [
    "2. 变量替换："
   ]
  },
  {
   "cell_type": "code",
   "execution_count": 4,
   "id": "1d90615a",
   "metadata": {},
   "outputs": [
    {
     "data": {
      "text/latex": [
       "$\\displaystyle x^{x^{y}}$"
      ],
      "text/plain": [
       "x**(x**y)"
      ]
     },
     "execution_count": 4,
     "metadata": {},
     "output_type": "execute_result"
    }
   ],
   "source": [
    "expr = x**y\n",
    "expr = expr.subs(y, x**y)\n",
    "expr"
   ]
  },
  {
   "cell_type": "code",
   "execution_count": 5,
   "id": "1a5a55ba",
   "metadata": {},
   "outputs": [
    {
     "data": {
      "text/latex": [
       "$\\displaystyle x^{x^{x^{x}}}$"
      ],
      "text/plain": [
       "x**(x**(x**x))"
      ]
     },
     "execution_count": 5,
     "metadata": {},
     "output_type": "execute_result"
    }
   ],
   "source": [
    "expr = expr.subs(y, x**x)\n",
    "expr"
   ]
  },
  {
   "cell_type": "code",
   "execution_count": 6,
   "id": "a5b14b6b",
   "metadata": {},
   "outputs": [
    {
     "data": {
      "text/latex": [
       "$\\displaystyle 2 \\sin{\\left(x \\right)} \\cos{\\left(x \\right)} + 2 \\cos^{2}{\\left(x \\right)} - 1$"
      ],
      "text/plain": [
       "2*sin(x)*cos(x) + 2*cos(x)**2 - 1"
      ]
     },
     "execution_count": 6,
     "metadata": {},
     "output_type": "execute_result"
    }
   ],
   "source": [
    "expr = sin(2*x) + cos(2*x)\n",
    "expand_trig(expr) # 三角展开"
   ]
  },
  {
   "cell_type": "code",
   "execution_count": 7,
   "id": "c8301496",
   "metadata": {},
   "outputs": [
    {
     "data": {
      "text/latex": [
       "$\\displaystyle 2 \\sin{\\left(x \\right)} \\cos{\\left(x \\right)} + \\cos{\\left(2 x \\right)}$"
      ],
      "text/plain": [
       "2*sin(x)*cos(x) + cos(2*x)"
      ]
     },
     "execution_count": 7,
     "metadata": {},
     "output_type": "execute_result"
    }
   ],
   "source": [
    "expr.subs(sin(2*x), 2*sin(x)*cos(x))"
   ]
  },
  {
   "cell_type": "markdown",
   "id": "8a0d6790",
   "metadata": {},
   "source": [
    "```{tip}\n",
    "SymPy 表达式是不可变的对象。\n",
    "```\n",
    "\n",
    "替换多个变量可以这样："
   ]
  },
  {
   "cell_type": "code",
   "execution_count": 8,
   "id": "424db0f0",
   "metadata": {},
   "outputs": [
    {
     "data": {
      "text/latex": [
       "$\\displaystyle 40$"
      ],
      "text/plain": [
       "40"
      ]
     },
     "execution_count": 8,
     "metadata": {},
     "output_type": "execute_result"
    }
   ],
   "source": [
    "expr = x**3 + 4*x*y - z\n",
    "expr.subs([(x, 2), (y, 4), (z, 0)])"
   ]
  },
  {
   "cell_type": "markdown",
   "id": "ba5b59b7",
   "metadata": {},
   "source": [
    "甚至，可以制定替换的规则："
   ]
  },
  {
   "cell_type": "code",
   "execution_count": 9,
   "id": "c6ccfeb5",
   "metadata": {},
   "outputs": [
    {
     "data": {
      "text/latex": [
       "$\\displaystyle - 4 x^{3} - 2 x + y^{4} + 4 y^{2} + 3$"
      ],
      "text/plain": [
       "-4*x**3 - 2*x + y**4 + 4*y**2 + 3"
      ]
     },
     "execution_count": 9,
     "metadata": {},
     "output_type": "execute_result"
    }
   ],
   "source": [
    "expr = x**4 - 4*x**3 + 4*x**2 - 2*x + 3\n",
    "replacements = [(x**i, y**i) for i in range(5) if i % 2 == 0]\n",
    "expr.subs(replacements)"
   ]
  },
  {
   "cell_type": "markdown",
   "id": "0b8004ff",
   "metadata": {},
   "source": [
    "## 转换字符串为 SymPy 表达式\n",
    "\n",
    "`sympify` 可以将字符串转换为 SymPy 表达式："
   ]
  },
  {
   "cell_type": "code",
   "execution_count": 10,
   "id": "c9f7fa92",
   "metadata": {},
   "outputs": [
    {
     "data": {
      "text/latex": [
       "$\\displaystyle x^{2} + 3 x - \\frac{1}{2}$"
      ],
      "text/plain": [
       "x**2 + 3*x - 1/2"
      ]
     },
     "execution_count": 10,
     "metadata": {},
     "output_type": "execute_result"
    }
   ],
   "source": [
    "str_expr = \"x**2 + 3*x - 1/2\"\n",
    "expr = sympify(str_expr)\n",
    "expr"
   ]
  },
  {
   "cell_type": "code",
   "execution_count": 11,
   "id": "987c5422",
   "metadata": {},
   "outputs": [
    {
     "data": {
      "text/latex": [
       "$\\displaystyle \\frac{19}{2}$"
      ],
      "text/plain": [
       "19/2"
      ]
     },
     "execution_count": 11,
     "metadata": {},
     "output_type": "execute_result"
    }
   ],
   "source": [
    "expr.subs(x, 2)"
   ]
  },
  {
   "cell_type": "markdown",
   "id": "f7b486cc",
   "metadata": {},
   "source": [
    "### `evalf`\n",
    "\n",
    "`evalf` 将数值表达式转换为浮点数："
   ]
  },
  {
   "cell_type": "code",
   "execution_count": 12,
   "id": "32ab2daa",
   "metadata": {},
   "outputs": [
    {
     "data": {
      "text/latex": [
       "$\\displaystyle 2.82842712474619$"
      ],
      "text/plain": [
       "2.82842712474619"
      ]
     },
     "execution_count": 12,
     "metadata": {},
     "output_type": "execute_result"
    }
   ],
   "source": [
    "expr = sqrt(8)\n",
    "expr.evalf()"
   ]
  },
  {
   "cell_type": "markdown",
   "id": "b7084a96",
   "metadata": {},
   "source": [
    "可以浮点数设置精确的位数："
   ]
  },
  {
   "cell_type": "code",
   "execution_count": 13,
   "id": "dc7749e7",
   "metadata": {},
   "outputs": [
    {
     "data": {
      "text/latex": [
       "$\\displaystyle 3.141592653589793238462643383279502884197169399375105820974944592307816406286208998628034825342117068$"
      ],
      "text/plain": [
       "3.141592653589793238462643383279502884197169399375105820974944592307816406286208998628034825342117068"
      ]
     },
     "execution_count": 13,
     "metadata": {},
     "output_type": "execute_result"
    }
   ],
   "source": [
    "pi.evalf(100)"
   ]
  },
  {
   "cell_type": "markdown",
   "id": "ed4c089b",
   "metadata": {},
   "source": [
    "为了精确的计算数值表达式，可以这样："
   ]
  },
  {
   "cell_type": "code",
   "execution_count": 14,
   "id": "227fd8d2",
   "metadata": {},
   "outputs": [
    {
     "data": {
      "text/latex": [
       "$\\displaystyle 0.0874989834394464$"
      ],
      "text/plain": [
       "0.0874989834394464"
      ]
     },
     "execution_count": 14,
     "metadata": {},
     "output_type": "execute_result"
    }
   ],
   "source": [
    "expr = cos(2*x)\n",
    "expr.evalf(subs={x: 2.4})"
   ]
  },
  {
   "cell_type": "markdown",
   "id": "653e9d4b",
   "metadata": {},
   "source": [
    "有时舍入误差小于期望精度，可能会这样："
   ]
  },
  {
   "cell_type": "code",
   "execution_count": 15,
   "id": "3d7dc503",
   "metadata": {},
   "outputs": [
    {
     "data": {
      "text/latex": [
       "$\\displaystyle -4.0 \\cdot 10^{-124}$"
      ],
      "text/plain": [
       "-0.e-124"
      ]
     },
     "execution_count": 15,
     "metadata": {},
     "output_type": "execute_result"
    }
   ],
   "source": [
    "one = cos(1)**2 + sin(1)**2\n",
    "(one - 1).evalf()"
   ]
  },
  {
   "cell_type": "markdown",
   "id": "63be0603",
   "metadata": {},
   "source": [
    "此时，可以："
   ]
  },
  {
   "cell_type": "code",
   "execution_count": 16,
   "id": "a617ce66",
   "metadata": {},
   "outputs": [
    {
     "data": {
      "text/latex": [
       "$\\displaystyle 0$"
      ],
      "text/plain": [
       "0"
      ]
     },
     "execution_count": 16,
     "metadata": {},
     "output_type": "execute_result"
    }
   ],
   "source": [
    "(one - 1).evalf(chop=True)"
   ]
  },
  {
   "cell_type": "markdown",
   "id": "76a254e7",
   "metadata": {},
   "source": [
    "### `lambdify`\n",
    "\n",
    "如果数据量很大，需要借助 [NumPy](http://www.numpy.org/) 和 [SciPy](http://www.scipy.org/)："
   ]
  },
  {
   "cell_type": "code",
   "execution_count": 17,
   "id": "10c6e7ca",
   "metadata": {},
   "outputs": [
    {
     "data": {
      "text/plain": [
       "array([ 0.        ,  0.84147098,  0.90929743,  0.14112001, -0.7568025 ,\n",
       "       -0.95892427, -0.2794155 ,  0.6569866 ,  0.98935825,  0.41211849])"
      ]
     },
     "execution_count": 17,
     "metadata": {},
     "output_type": "execute_result"
    }
   ],
   "source": [
    "import numpy as np\n",
    "a = np.arange(10)\n",
    "expr = sin(x)\n",
    "f = lambdify(x, expr, \"numpy\")\n",
    "f(a)"
   ]
  },
  {
   "cell_type": "markdown",
   "id": "adfab51d",
   "metadata": {},
   "source": [
    "也可以自定义数值计算函数："
   ]
  },
  {
   "cell_type": "code",
   "execution_count": 18,
   "id": "4615ba46",
   "metadata": {},
   "outputs": [
    {
     "data": {
      "text/plain": [
       "0.09983341664682815"
      ]
     },
     "execution_count": 18,
     "metadata": {},
     "output_type": "execute_result"
    }
   ],
   "source": [
    "def mysin(x):\n",
    "    \"\"\"\n",
    "    My sine. Note that this is only accurate for small x.\n",
    "    \"\"\"\n",
    "    return np.sin(x)\n",
    "\n",
    "f = lambdify(x, expr, {\"sin\":mysin})\n",
    "\n",
    "f(0.1)"
   ]
  },
  {
   "cell_type": "code",
   "execution_count": null,
   "id": "8e4eeae3",
   "metadata": {},
   "outputs": [],
   "source": []
  }
 ],
 "metadata": {
  "jupytext": {
   "formats": "md:myst",
   "text_representation": {
    "extension": ".md",
    "format_name": "myst",
    "format_version": 0.13,
    "jupytext_version": "1.10.3"
   }
  },
  "kernelspec": {
   "display_name": "ai",
   "language": "python",
   "name": "ai"
  },
  "language_info": {
   "codemirror_mode": {
    "name": "ipython",
    "version": 3
   },
   "file_extension": ".py",
   "mimetype": "text/x-python",
   "name": "python",
   "nbconvert_exporter": "python",
   "pygments_lexer": "ipython3",
   "version": "3.8.5"
  },
  "source_map": [
   13,
   19,
   27,
   33,
   36,
   42,
   44,
   48,
   54,
   59,
   64,
   66,
   74,
   77,
   81,
   85,
   91,
   97,
   99,
   105,
   108,
   112,
   114,
   118,
   121,
   125,
   128,
   132,
   134,
   140,
   146,
   150,
   162
  ]
 },
 "nbformat": 4,
 "nbformat_minor": 5
}