{
 "cells": [
  {
   "cell_type": "markdown",
   "id": "e6007127",
   "metadata": {},
   "source": [
    "# 计算\n",
    "\n",
    "参考 [Calculus](https://docs.sympy.org/latest/tutorial/calculus.html)\n",
    "\n",
    "本节介绍如何在 SymPy 中执行基本的微积分任务，例如导数、积分、极限和级数展开。"
   ]
  },
  {
   "cell_type": "code",
   "execution_count": 1,
   "id": "6ab16608",
   "metadata": {},
   "outputs": [],
   "source": [
    "import warnings\n",
    "from sympy import *\n",
    "\n",
    "warnings.filterwarnings('ignore')\n",
    "x, y, z = symbols('x y z')"
   ]
  },
  {
   "cell_type": "markdown",
   "id": "a6cfdfec",
   "metadata": {},
   "source": [
    "## 微分\n",
    "\n",
    "微分（derivatives）使用 `diff` 函数："
   ]
  },
  {
   "cell_type": "code",
   "execution_count": 2,
   "id": "59792759",
   "metadata": {},
   "outputs": [
    {
     "data": {
      "text/latex": [
       "$\\displaystyle - \\sin{\\left(x \\right)}$"
      ],
      "text/plain": [
       "-sin(x)"
      ]
     },
     "execution_count": 2,
     "metadata": {},
     "output_type": "execute_result"
    }
   ],
   "source": [
    "diff(cos(x), x)"
   ]
  },
  {
   "cell_type": "code",
   "execution_count": 3,
   "id": "87a2b997",
   "metadata": {},
   "outputs": [
    {
     "data": {
      "text/latex": [
       "$\\displaystyle 2 x e^{x^{2}}$"
      ],
      "text/plain": [
       "2*x*exp(x**2)"
      ]
     },
     "execution_count": 3,
     "metadata": {},
     "output_type": "execute_result"
    }
   ],
   "source": [
    "diff(exp(x**2), x)"
   ]
  },
  {
   "cell_type": "markdown",
   "id": "587108ee",
   "metadata": {},
   "source": [
    "`diff` 可以一次取多个导数。要获取多个导数，请根据您希望微分的次数传递变量，或者在变量后传递一个数字。例如，下面两个都找到了 $x^4$ 的三阶导数。"
   ]
  },
  {
   "cell_type": "code",
   "execution_count": 4,
   "id": "811e9550",
   "metadata": {},
   "outputs": [
    {
     "data": {
      "text/latex": [
       "$\\displaystyle 24 x$"
      ],
      "text/plain": [
       "24*x"
      ]
     },
     "execution_count": 4,
     "metadata": {},
     "output_type": "execute_result"
    }
   ],
   "source": [
    "diff(x**4, x, x, x)"
   ]
  },
  {
   "cell_type": "code",
   "execution_count": 5,
   "id": "66639bc8",
   "metadata": {},
   "outputs": [
    {
     "data": {
      "text/latex": [
       "$\\displaystyle 24 x$"
      ],
      "text/plain": [
       "24*x"
      ]
     },
     "execution_count": 5,
     "metadata": {},
     "output_type": "execute_result"
    }
   ],
   "source": [
    "diff(x**4, x, 3)"
   ]
  },
  {
   "cell_type": "markdown",
   "id": "f116f245",
   "metadata": {},
   "source": [
    "您还可以一次对许多变量进行导数。只需按顺序传递每个导数，使用与单变量导数相同的语法。\n",
    "\n",
    "例如：计算 $\\frac{\\partial^7}{\\partial x\\partial y^2\\partial z^4} e^{x y z}$"
   ]
  },
  {
   "cell_type": "code",
   "execution_count": 6,
   "id": "b51064e6",
   "metadata": {},
   "outputs": [
    {
     "data": {
      "text/latex": [
       "$\\displaystyle x^{3} y^{2} \\left(x^{3} y^{3} z^{3} + 14 x^{2} y^{2} z^{2} + 52 x y z + 48\\right) e^{x y z}$"
      ],
      "text/plain": [
       "x**3*y**2*(x**3*y**3*z**3 + 14*x**2*y**2*z**2 + 52*x*y*z + 48)*exp(x*y*z)"
      ]
     },
     "execution_count": 6,
     "metadata": {},
     "output_type": "execute_result"
    }
   ],
   "source": [
    "expr = exp(x*y*z)\n",
    "diff(expr, x, y, y, z, z, z, z)"
   ]
  },
  {
   "cell_type": "code",
   "execution_count": 7,
   "id": "8a5b5873",
   "metadata": {},
   "outputs": [
    {
     "data": {
      "text/latex": [
       "$\\displaystyle x^{3} y^{2} \\left(x^{3} y^{3} z^{3} + 14 x^{2} y^{2} z^{2} + 52 x y z + 48\\right) e^{x y z}$"
      ],
      "text/plain": [
       "x**3*y**2*(x**3*y**3*z**3 + 14*x**2*y**2*z**2 + 52*x*y*z + 48)*exp(x*y*z)"
      ]
     },
     "execution_count": 7,
     "metadata": {},
     "output_type": "execute_result"
    }
   ],
   "source": [
    "diff(expr, x, y, 2, z, 4)"
   ]
  },
  {
   "cell_type": "code",
   "execution_count": 8,
   "id": "29c95ee8",
   "metadata": {},
   "outputs": [
    {
     "data": {
      "text/latex": [
       "$\\displaystyle x^{3} y^{2} \\left(x^{3} y^{3} z^{3} + 14 x^{2} y^{2} z^{2} + 52 x y z + 48\\right) e^{x y z}$"
      ],
      "text/plain": [
       "x**3*y**2*(x**3*y**3*z**3 + 14*x**2*y**2*z**2 + 52*x*y*z + 48)*exp(x*y*z)"
      ]
     },
     "execution_count": 8,
     "metadata": {},
     "output_type": "execute_result"
    }
   ],
   "source": [
    "diff(expr, x, y, y, z, 4)"
   ]
  },
  {
   "cell_type": "markdown",
   "id": "ceb79ab3",
   "metadata": {},
   "source": [
    "`diff` 也可以称为方法。这两种调用 `diff` 的方式完全一样，提供只是为了方便。"
   ]
  },
  {
   "cell_type": "code",
   "execution_count": 9,
   "id": "47d5f9e5",
   "metadata": {},
   "outputs": [
    {
     "data": {
      "text/latex": [
       "$\\displaystyle x^{3} y^{2} \\left(x^{3} y^{3} z^{3} + 14 x^{2} y^{2} z^{2} + 52 x y z + 48\\right) e^{x y z}$"
      ],
      "text/plain": [
       "x**3*y**2*(x**3*y**3*z**3 + 14*x**2*y**2*z**2 + 52*x*y*z + 48)*exp(x*y*z)"
      ]
     },
     "execution_count": 9,
     "metadata": {},
     "output_type": "execute_result"
    }
   ],
   "source": [
    "expr.diff(x, y, y, z, 4)"
   ]
  },
  {
   "cell_type": "markdown",
   "id": "9680c224",
   "metadata": {},
   "source": [
    "要创建未计算的导数，请使用 `Derivative` 类。它的语法与 `diff` 相同。"
   ]
  },
  {
   "cell_type": "code",
   "execution_count": 10,
   "id": "277f22ce",
   "metadata": {},
   "outputs": [
    {
     "data": {
      "text/latex": [
       "$\\displaystyle \\frac{\\partial^{7}}{\\partial z^{4}\\partial y^{2}\\partial x} e^{x y z}$"
      ],
      "text/plain": [
       "Derivative(exp(x*y*z), x, (y, 2), (z, 4))"
      ]
     },
     "execution_count": 10,
     "metadata": {},
     "output_type": "execute_result"
    }
   ],
   "source": [
    "deriv = Derivative(expr, x, y, y, z, 4)\n",
    "deriv"
   ]
  },
  {
   "cell_type": "markdown",
   "id": "a5c3df50",
   "metadata": {},
   "source": [
    "要计算未评估的导数，请使用 `doit` 方法。"
   ]
  },
  {
   "cell_type": "code",
   "execution_count": 11,
   "id": "7bcd4370",
   "metadata": {},
   "outputs": [
    {
     "data": {
      "text/latex": [
       "$\\displaystyle x^{3} y^{2} \\left(x^{3} y^{3} z^{3} + 14 x^{2} y^{2} z^{2} + 52 x y z + 48\\right) e^{x y z}$"
      ],
      "text/plain": [
       "x**3*y**2*(x**3*y**3*z**3 + 14*x**2*y**2*z**2 + 52*x*y*z + 48)*exp(x*y*z)"
      ]
     },
     "execution_count": 11,
     "metadata": {},
     "output_type": "execute_result"
    }
   ],
   "source": [
    "deriv.doit()"
   ]
  },
  {
   "cell_type": "markdown",
   "id": "a80fbc6c",
   "metadata": {},
   "source": [
    "这些未求值的对象对于延迟导数的求值或用于打印目的很有用。当 SymPy 不知道如何计算表达式的导数时（例如，如果它包含未定义的函数，这在求解微分方程部分中进行了描述），它们也会被使用。\n",
    "\n",
    "可以使用元组 `(x, n)` 创建未指定阶的导数，其中 `n` 是导数相对于 `x` 的阶数。"
   ]
  },
  {
   "cell_type": "code",
   "execution_count": 12,
   "id": "6fd2fbeb",
   "metadata": {},
   "outputs": [
    {
     "data": {
      "text/latex": [
       "$\\displaystyle \\frac{\\partial^{n}}{\\partial x^{n}} \\left(a x + b\\right)^{m}$"
      ],
      "text/plain": [
       "Derivative((a*x + b)**m, (x, n))"
      ]
     },
     "execution_count": 12,
     "metadata": {},
     "output_type": "execute_result"
    }
   ],
   "source": [
    "m, n, a, b = symbols('m n a b')\n",
    "expr = (a*x + b)**m\n",
    "expr.diff((x, n))"
   ]
  },
  {
   "cell_type": "markdown",
   "id": "a86628e9",
   "metadata": {},
   "source": [
    "## 积分\n",
    "\n",
    "要计算积分，请使用 `integrate` 函数。积分有定积分和不定积分两种。要计算不定积分，即反导数（antiderivative）或原语（primitive），只需在表达式后传递变量即可。"
   ]
  },
  {
   "cell_type": "code",
   "execution_count": 13,
   "id": "3a3f456e",
   "metadata": {},
   "outputs": [
    {
     "data": {
      "text/latex": [
       "$\\displaystyle \\sin{\\left(x \\right)}$"
      ],
      "text/plain": [
       "sin(x)"
      ]
     },
     "execution_count": 13,
     "metadata": {},
     "output_type": "execute_result"
    }
   ],
   "source": [
    "integrate(cos(x), x)"
   ]
  },
  {
   "cell_type": "markdown",
   "id": "6e715f12",
   "metadata": {},
   "source": [
    "要计算定积分，请传递参数 `(integration_variable, lower_limit, upper_limit)`。\n",
    "\n",
    "例如，计算：$\\int_0^\\infty e^{-x}\\,dx,$"
   ]
  },
  {
   "cell_type": "code",
   "execution_count": 14,
   "id": "9bc34c61",
   "metadata": {},
   "outputs": [
    {
     "data": {
      "text/latex": [
       "$\\displaystyle 1$"
      ],
      "text/plain": [
       "1"
      ]
     },
     "execution_count": 14,
     "metadata": {},
     "output_type": "execute_result"
    }
   ],
   "source": [
    "integrate(exp(-x), (x, 0, oo))"
   ]
  },
  {
   "cell_type": "markdown",
   "id": "db1cffde",
   "metadata": {},
   "source": [
    "与不定积分一样，您可以传递多个极限元组来执行多重积分。例如，要计算\n",
    "\n",
    "$$\n",
    "\\int_{-\\infty}^{\\infty}\\int_{-\\infty}^{\\infty} e^{- x^{2} - y^{2}}\\, dx\\, dy,\n",
    "$$"
   ]
  },
  {
   "cell_type": "code",
   "execution_count": 15,
   "id": "ed97285b",
   "metadata": {},
   "outputs": [
    {
     "data": {
      "text/latex": [
       "$\\displaystyle \\pi$"
      ],
      "text/plain": [
       "pi"
      ]
     },
     "execution_count": 15,
     "metadata": {},
     "output_type": "execute_result"
    }
   ],
   "source": [
    "integrate(exp(-x**2 - y**2), (x, -oo, oo), (y, -oo, oo))"
   ]
  },
  {
   "cell_type": "markdown",
   "id": "c0da4751",
   "metadata": {},
   "source": [
    "如果 `integrate` 无法计算积分，则返回未计算的 `Integral` 对象。"
   ]
  },
  {
   "cell_type": "code",
   "execution_count": 16,
   "id": "2dcf98ec",
   "metadata": {},
   "outputs": [
    {
     "data": {
      "text/latex": [
       "$\\displaystyle \\int x^{x}\\, dx$"
      ],
      "text/plain": [
       "Integral(x**x, x)"
      ]
     },
     "execution_count": 16,
     "metadata": {},
     "output_type": "execute_result"
    }
   ],
   "source": [
    "expr = integrate(x**x, x)\n",
    "expr"
   ]
  },
  {
   "cell_type": "code",
   "execution_count": 17,
   "id": "cbe44227",
   "metadata": {},
   "outputs": [
    {
     "name": "stdout",
     "output_type": "stream",
     "text": [
      "Integral(x**x, x)\n"
     ]
    }
   ],
   "source": [
    "print(expr)"
   ]
  },
  {
   "cell_type": "markdown",
   "id": "86a9938f",
   "metadata": {},
   "source": [
    "与 `Derivative` 一样，您可以使用 `Integral` 创建未计算的积分。稍后要评估这个积分，请调用 `doit`。"
   ]
  },
  {
   "cell_type": "code",
   "execution_count": 18,
   "id": "151157b0",
   "metadata": {},
   "outputs": [
    {
     "data": {
      "text/latex": [
       "$\\displaystyle \\int \\log{\\left(x \\right)}^{2}\\, dx$"
      ],
      "text/plain": [
       "Integral(log(x)**2, x)"
      ]
     },
     "execution_count": 18,
     "metadata": {},
     "output_type": "execute_result"
    }
   ],
   "source": [
    "expr = Integral(log(x)**2, x)\n",
    "expr"
   ]
  },
  {
   "cell_type": "code",
   "execution_count": 19,
   "id": "550ba999",
   "metadata": {},
   "outputs": [
    {
     "data": {
      "text/latex": [
       "$\\displaystyle x \\log{\\left(x \\right)}^{2} - 2 x \\log{\\left(x \\right)} + 2 x$"
      ],
      "text/plain": [
       "x*log(x)**2 - 2*x*log(x) + 2*x"
      ]
     },
     "execution_count": 19,
     "metadata": {},
     "output_type": "execute_result"
    }
   ],
   "source": [
    "expr.doit()"
   ]
  },
  {
   "cell_type": "markdown",
   "id": "29d9224b",
   "metadata": {},
   "source": [
    "集成使用强大的算法来计算定积分和不定积分，包括启发式模式匹配类型算法、[Risch 算法](https://en.wikipedia.org/wiki/Risch_algorithm)的部分实现以及使用 [Meijer G 函数](https://en.wikipedia.org/wiki/Meijer_g-function)的算法，该算法对于计算特殊函数的积分很有用 ，尤其是定积分。以下是一些集成函数的示例。"
   ]
  },
  {
   "cell_type": "code",
   "execution_count": 20,
   "id": "1bf7f808",
   "metadata": {},
   "outputs": [
    {
     "data": {
      "text/latex": [
       "$\\displaystyle \\int \\frac{\\left(x^{4} + x^{2} e^{x} - x^{2} - 2 x e^{x} - 2 x - e^{x}\\right) e^{x}}{\\left(x - 1\\right)^{2} \\left(x + 1\\right)^{2} \\left(e^{x} + 1\\right)}\\, dx$"
      ],
      "text/plain": [
       "Integral((x**4 + x**2*exp(x) - x**2 - 2*x*exp(x) - 2*x - exp(x))*exp(x)/((x - 1)**2*(x + 1)**2*(exp(x) + 1)), x)"
      ]
     },
     "execution_count": 20,
     "metadata": {},
     "output_type": "execute_result"
    }
   ],
   "source": [
    "integ = Integral((x**4 + x**2*exp(x) - x**2 - 2*x*exp(x) - 2*x - \\\n",
    "                  exp(x))*exp(x)/((x - 1)**2*(x + 1)**2*(exp(x) + 1)), x)\n",
    "integ"
   ]
  },
  {
   "cell_type": "code",
   "execution_count": 21,
   "id": "a364f6d0",
   "metadata": {},
   "outputs": [
    {
     "data": {
      "text/latex": [
       "$\\displaystyle \\log{\\left(e^{x} + 1 \\right)} + \\frac{e^{x}}{x^{2} - 1}$"
      ],
      "text/plain": [
       "log(exp(x) + 1) + exp(x)/(x**2 - 1)"
      ]
     },
     "execution_count": 21,
     "metadata": {},
     "output_type": "execute_result"
    }
   ],
   "source": [
    "integ.doit()"
   ]
  },
  {
   "cell_type": "code",
   "execution_count": 22,
   "id": "feac90ac",
   "metadata": {},
   "outputs": [
    {
     "data": {
      "text/latex": [
       "$\\displaystyle \\int \\sin{\\left(x^{2} \\right)}\\, dx$"
      ],
      "text/plain": [
       "Integral(sin(x**2), x)"
      ]
     },
     "execution_count": 22,
     "metadata": {},
     "output_type": "execute_result"
    }
   ],
   "source": [
    "integ = Integral(sin(x**2), x)\n",
    "integ"
   ]
  },
  {
   "cell_type": "code",
   "execution_count": 23,
   "id": "ae04f06c",
   "metadata": {},
   "outputs": [
    {
     "data": {
      "text/latex": [
       "$\\displaystyle \\frac{3 \\sqrt{2} \\sqrt{\\pi} S\\left(\\frac{\\sqrt{2} x}{\\sqrt{\\pi}}\\right) \\Gamma\\left(\\frac{3}{4}\\right)}{8 \\Gamma\\left(\\frac{7}{4}\\right)}$"
      ],
      "text/plain": [
       "3*sqrt(2)*sqrt(pi)*fresnels(sqrt(2)*x/sqrt(pi))*gamma(3/4)/(8*gamma(7/4))"
      ]
     },
     "execution_count": 23,
     "metadata": {},
     "output_type": "execute_result"
    }
   ],
   "source": [
    "integ.doit()"
   ]
  },
  {
   "cell_type": "code",
   "execution_count": 24,
   "id": "2b0d5234",
   "metadata": {},
   "outputs": [
    {
     "data": {
      "text/latex": [
       "$\\displaystyle \\int\\limits_{0}^{\\infty} x^{y} e^{- x}\\, dx$"
      ],
      "text/plain": [
       "Integral(x**y*exp(-x), (x, 0, oo))"
      ]
     },
     "execution_count": 24,
     "metadata": {},
     "output_type": "execute_result"
    }
   ],
   "source": [
    "integ = Integral(x**y*exp(-x), (x, 0, oo))\n",
    "integ"
   ]
  },
  {
   "cell_type": "code",
   "execution_count": 25,
   "id": "1d23f98a",
   "metadata": {},
   "outputs": [
    {
     "data": {
      "text/latex": [
       "$\\displaystyle \\begin{cases} \\Gamma\\left(y + 1\\right) & \\text{for}\\: \\operatorname{re}{\\left(y\\right)} > -1 \\\\\\int\\limits_{0}^{\\infty} x^{y} e^{- x}\\, dx & \\text{otherwise} \\end{cases}$"
      ],
      "text/plain": [
       "Piecewise((gamma(y + 1), re(y) > -1), (Integral(x**y*exp(-x), (x, 0, oo)), True))"
      ]
     },
     "execution_count": 25,
     "metadata": {},
     "output_type": "execute_result"
    }
   ],
   "source": [
    "integ.doit()"
   ]
  },
  {
   "cell_type": "markdown",
   "id": "a8e9c166",
   "metadata": {},
   "source": [
    "## 极限\n",
    "\n",
    "计算：\n",
    "\n",
    "$$\n",
    "\\lim_{x\\to x_0} f(x)\n",
    "$$\n",
    "\n",
    "使用 `limit(f(x), x, x0)`。"
   ]
  },
  {
   "cell_type": "code",
   "execution_count": 26,
   "id": "43b2d565",
   "metadata": {},
   "outputs": [
    {
     "data": {
      "text/latex": [
       "$\\displaystyle 1$"
      ],
      "text/plain": [
       "1"
      ]
     },
     "execution_count": 26,
     "metadata": {},
     "output_type": "execute_result"
    }
   ],
   "source": [
    "limit(sin(x)/x, x, 0)"
   ]
  },
  {
   "cell_type": "markdown",
   "id": "d7e4f77c",
   "metadata": {},
   "source": [
    "当评估点是奇点（singularity）时，应使用 `limit` 而不是 `subs`。尽管 SymPy 有表示 $\\infty$ 的对象，但使用它们进行评估并不可靠，因为它们不会跟踪诸如增长率之类的事情。此外，诸如 $\\infty - \\infty$ 和 $\\frac{\\infty}{\\infty}$ 之类的东西返回 nan （非数字）。"
   ]
  },
  {
   "cell_type": "code",
   "execution_count": 27,
   "id": "72d2f231",
   "metadata": {},
   "outputs": [
    {
     "data": {
      "text/latex": [
       "$\\displaystyle \\text{NaN}$"
      ],
      "text/plain": [
       "nan"
      ]
     },
     "execution_count": 27,
     "metadata": {},
     "output_type": "execute_result"
    }
   ],
   "source": [
    "expr = x**2/exp(x)\n",
    "expr.subs(x, oo)"
   ]
  },
  {
   "cell_type": "code",
   "execution_count": 28,
   "id": "c359d42e",
   "metadata": {},
   "outputs": [
    {
     "data": {
      "text/latex": [
       "$\\displaystyle 0$"
      ],
      "text/plain": [
       "0"
      ]
     },
     "execution_count": 28,
     "metadata": {},
     "output_type": "execute_result"
    }
   ],
   "source": [
    "limit(expr, x, oo)"
   ]
  },
  {
   "cell_type": "markdown",
   "id": "b1499abb",
   "metadata": {},
   "source": [
    "与 `Derivative` 和 `Integral` 一样，`limit` 也有一个未计算的对应物 `Limit`。要评估它，请使用 `doit`。"
   ]
  },
  {
   "cell_type": "code",
   "execution_count": 29,
   "id": "44e1c812",
   "metadata": {},
   "outputs": [
    {
     "data": {
      "text/latex": [
       "$\\displaystyle \\lim_{x \\to 0^+}\\left(\\frac{\\cos{\\left(x \\right)} - 1}{x}\\right)$"
      ],
      "text/plain": [
       "Limit((cos(x) - 1)/x, x, 0)"
      ]
     },
     "execution_count": 29,
     "metadata": {},
     "output_type": "execute_result"
    }
   ],
   "source": [
    "expr = Limit((cos(x) - 1)/x, x, 0)\n",
    "expr"
   ]
  },
  {
   "cell_type": "code",
   "execution_count": 30,
   "id": "dc9c92e4",
   "metadata": {},
   "outputs": [
    {
     "data": {
      "text/latex": [
       "$\\displaystyle 0$"
      ],
      "text/plain": [
       "0"
      ]
     },
     "execution_count": 30,
     "metadata": {},
     "output_type": "execute_result"
    }
   ],
   "source": [
    "expr.doit()"
   ]
  },
  {
   "cell_type": "markdown",
   "id": "4bd38a91",
   "metadata": {},
   "source": [
    "要仅评估单侧极限，请将“`+`”或“`-`”作为 `limit` 的第四个参数传递。例如，要计算\n",
    "\n",
    "$$\n",
    "\\lim_{x\\to 0^+}\\frac{1}{x},\n",
    "$$"
   ]
  },
  {
   "cell_type": "code",
   "execution_count": 31,
   "id": "e18801ac",
   "metadata": {},
   "outputs": [
    {
     "data": {
      "text/latex": [
       "$\\displaystyle \\infty$"
      ],
      "text/plain": [
       "oo"
      ]
     },
     "execution_count": 31,
     "metadata": {},
     "output_type": "execute_result"
    }
   ],
   "source": [
    "limit(1/x, x, 0, '+')"
   ]
  },
  {
   "cell_type": "code",
   "execution_count": 32,
   "id": "6808a63d",
   "metadata": {},
   "outputs": [
    {
     "data": {
      "text/latex": [
       "$\\displaystyle -\\infty$"
      ],
      "text/plain": [
       "-oo"
      ]
     },
     "execution_count": 32,
     "metadata": {},
     "output_type": "execute_result"
    }
   ],
   "source": [
    "limit(1/x, x, 0, '-')"
   ]
  },
  {
   "cell_type": "markdown",
   "id": "885ed8ea",
   "metadata": {},
   "source": [
    "## 级数展开\n",
    "\n",
    "SymPy 可以计算函数围绕一个点的渐近级数展开。要计算 $f(x)$ 围绕 $x^n$ 阶项 $x=x_0$ 项的展开，请使用 `f(x).series(x, x0, n). x0` 和 `n` 可以省略，在这种情况下，将使用默认值 `x0=0` 和 `n=6`。"
   ]
  },
  {
   "cell_type": "code",
   "execution_count": 33,
   "id": "94b55328",
   "metadata": {},
   "outputs": [
    {
     "data": {
      "text/latex": [
       "$\\displaystyle 1 + x + \\frac{x^{2}}{2} + O\\left(x^{4}\\right)$"
      ],
      "text/plain": [
       "1 + x + x**2/2 + O(x**4)"
      ]
     },
     "execution_count": 33,
     "metadata": {},
     "output_type": "execute_result"
    }
   ],
   "source": [
    "expr = exp(sin(x))\n",
    "expr.series(x, 0, 4)"
   ]
  },
  {
   "cell_type": "markdown",
   "id": "f1661603",
   "metadata": {},
   "source": [
    "最后的 $O\\left(x^4\\right)$ 项表示 $x=0$ 处的 Landau 阶项。"
   ]
  },
  {
   "cell_type": "code",
   "execution_count": 34,
   "id": "f7baff78",
   "metadata": {},
   "outputs": [
    {
     "data": {
      "text/latex": [
       "$\\displaystyle x + x^{3} + O\\left(x^{4}\\right)$"
      ],
      "text/plain": [
       "x + x**3 + O(x**4)"
      ]
     },
     "execution_count": 34,
     "metadata": {},
     "output_type": "execute_result"
    }
   ],
   "source": [
    "x + x**3 + x**6 + O(x**4)"
   ]
  },
  {
   "cell_type": "code",
   "execution_count": 35,
   "id": "62bba4e6",
   "metadata": {},
   "outputs": [
    {
     "data": {
      "text/latex": [
       "$\\displaystyle O\\left(x\\right)$"
      ],
      "text/plain": [
       "O(x)"
      ]
     },
     "execution_count": 35,
     "metadata": {},
     "output_type": "execute_result"
    }
   ],
   "source": [
    "x*O(1)"
   ]
  },
  {
   "cell_type": "markdown",
   "id": "ea5fe24f",
   "metadata": {},
   "source": [
    "如果您不想要 $O$ 项，请使用 `removeO` 方法。"
   ]
  },
  {
   "cell_type": "code",
   "execution_count": 36,
   "id": "7059f1ec",
   "metadata": {},
   "outputs": [
    {
     "data": {
      "text/latex": [
       "$\\displaystyle \\frac{x^{2}}{2} + x + 1$"
      ],
      "text/plain": [
       "x**2/2 + x + 1"
      ]
     },
     "execution_count": 36,
     "metadata": {},
     "output_type": "execute_result"
    }
   ],
   "source": [
    "expr.series(x, 0, 4).removeO()"
   ]
  },
  {
   "cell_type": "markdown",
   "id": "1299b6f2",
   "metadata": {},
   "source": [
    "$O$ 表示法支持任意限制点（0 除外）："
   ]
  },
  {
   "cell_type": "code",
   "execution_count": 37,
   "id": "e1ea1cc6",
   "metadata": {},
   "outputs": [
    {
     "data": {
      "text/latex": [
       "$\\displaystyle -5 + \\frac{\\left(x - 6\\right)^{2}}{2} + \\frac{\\left(x - 6\\right)^{3}}{6} + \\frac{\\left(x - 6\\right)^{4}}{24} + \\frac{\\left(x - 6\\right)^{5}}{120} + x + O\\left(\\left(x - 6\\right)^{6}; x\\rightarrow 6\\right)$"
      ],
      "text/plain": [
       "-5 + (x - 6)**2/2 + (x - 6)**3/6 + (x - 6)**4/24 + (x - 6)**5/120 + x + O((x - 6)**6, (x, 6))"
      ]
     },
     "execution_count": 37,
     "metadata": {},
     "output_type": "execute_result"
    }
   ],
   "source": [
    "exp(x - 6).series(x, x0=6)"
   ]
  },
  {
   "cell_type": "markdown",
   "id": "6123c153",
   "metadata": {},
   "source": [
    "## 有限差分\n",
    "\n",
    "到目前为止，我们已经分别研究了具有解析导数和原始函数的表达式。但是，如果我们想要一个表达式来估计一条曲线的导数，而该曲线缺少封闭形式表示，或者我们还不知道其函数值，该怎么办？一种方法是使用有限差分（Finite differences）方法。\n",
    "\n",
    "使用有限差分进行微分的最简单方法是使用 `distinct_finite` 函数："
   ]
  },
  {
   "cell_type": "code",
   "execution_count": 38,
   "id": "4348df11",
   "metadata": {},
   "outputs": [
    {
     "data": {
      "text/latex": [
       "$\\displaystyle - f{\\left(x - \\frac{1}{2} \\right)} g{\\left(x - \\frac{1}{2} \\right)} + f{\\left(x + \\frac{1}{2} \\right)} g{\\left(x + \\frac{1}{2} \\right)}$"
      ],
      "text/plain": [
       "-f(x - 1/2)*g(x - 1/2) + f(x + 1/2)*g(x + 1/2)"
      ]
     },
     "execution_count": 38,
     "metadata": {},
     "output_type": "execute_result"
    }
   ],
   "source": [
    "f, g = symbols('f g', cls=Function)\n",
    "\n",
    "differentiate_finite(f(x)*g(x))"
   ]
  },
  {
   "cell_type": "markdown",
   "id": "c7b7a55a",
   "metadata": {},
   "source": [
    "如果您已经有一个 `Derivative` 实例，您可以使用 `as_finite_difference` 方法生成任意阶导数的近似值："
   ]
  },
  {
   "cell_type": "code",
   "execution_count": 39,
   "id": "b450a69c",
   "metadata": {},
   "outputs": [
    {
     "data": {
      "text/latex": [
       "$\\displaystyle \\frac{d}{d x} f{\\left(x \\right)}$"
      ],
      "text/plain": [
       "Derivative(f(x), x)"
      ]
     },
     "execution_count": 39,
     "metadata": {},
     "output_type": "execute_result"
    }
   ],
   "source": [
    "f = Function('f')\n",
    "\n",
    "dfdx = f(x).diff(x)\n",
    "dfdx"
   ]
  },
  {
   "cell_type": "code",
   "execution_count": 40,
   "id": "a08c87e5",
   "metadata": {},
   "outputs": [
    {
     "data": {
      "text/latex": [
       "$\\displaystyle - f{\\left(x - \\frac{1}{2} \\right)} + f{\\left(x + \\frac{1}{2} \\right)}$"
      ],
      "text/plain": [
       "-f(x - 1/2) + f(x + 1/2)"
      ]
     },
     "execution_count": 40,
     "metadata": {},
     "output_type": "execute_result"
    }
   ],
   "source": [
    "dfdx.as_finite_difference()"
   ]
  },
  {
   "cell_type": "markdown",
   "id": "ed09b149",
   "metadata": {},
   "source": [
    "在这里，使用最小数量的点（一阶导数为 2）使用步长为 1 等距计算一阶导数围绕 x 近似。我们可以使用任意步长（可能包含符号表达式）："
   ]
  },
  {
   "cell_type": "code",
   "execution_count": 41,
   "id": "b63203d7",
   "metadata": {},
   "outputs": [
    {
     "data": {
      "text/latex": [
       "$\\displaystyle \\frac{f{\\left(- 3 h \\right)}}{5 h^{2}} - \\frac{f{\\left(- h \\right)}}{3 h^{2}} + \\frac{2 f{\\left(2 h \\right)}}{15 h^{2}}$"
      ],
      "text/plain": [
       "f(-3*h)/(5*h**2) - f(-h)/(3*h**2) + 2*f(2*h)/(15*h**2)"
      ]
     },
     "execution_count": 41,
     "metadata": {},
     "output_type": "execute_result"
    }
   ],
   "source": [
    "f = Function('f')\n",
    "d2fdx2 = f(x).diff(x, 2)\n",
    "h = Symbol('h')\n",
    "d2fdx2.as_finite_difference([-3*h,-h,2*h])"
   ]
  },
  {
   "cell_type": "markdown",
   "id": "6c8a2bf2",
   "metadata": {},
   "source": [
    "如果您只是对评估权重感兴趣，您可以手动进行："
   ]
  },
  {
   "cell_type": "code",
   "execution_count": 42,
   "id": "2e836219",
   "metadata": {},
   "outputs": [
    {
     "data": {
      "text/plain": [
       "[1/5, -1/3, 2/15]"
      ]
     },
     "execution_count": 42,
     "metadata": {},
     "output_type": "execute_result"
    }
   ],
   "source": [
    "finite_diff_weights(2, [-3, -1, 2], 0)[-1][-1]"
   ]
  },
  {
   "cell_type": "markdown",
   "id": "ef12eac2",
   "metadata": {},
   "source": [
    "请注意，我们只需要从 `finite_diff_weights` 返回的最后一个子列表中的最后一个元素。这样做的原因是该函数还为较低的导数生成权重并使用较少的点（有关更多详细信息，请参阅 `finite_diff_weights` 的文档）。\n",
    "\n",
    "如果直接使用 `finite_diff_weights` 看起来复杂，并且 `Derivative` 实例的 `as_finite_difference` 方法不够灵活，可以使用以 `order`、`x_list`、`y_list` 和 `x0` 为参数的 `apply_finite_diff`："
   ]
  },
  {
   "cell_type": "code",
   "execution_count": 43,
   "id": "3c802ea8",
   "metadata": {},
   "outputs": [
    {
     "data": {
      "text/latex": [
       "$\\displaystyle - \\frac{3 a}{20} - \\frac{b}{4} + \\frac{2 c}{5}$"
      ],
      "text/plain": [
       "-3*a/20 - b/4 + 2*c/5"
      ]
     },
     "execution_count": 43,
     "metadata": {},
     "output_type": "execute_result"
    }
   ],
   "source": [
    "x_list = [-3, 1, 2]\n",
    "y_list = symbols('a b c')\n",
    "apply_finite_diff(1, x_list, y_list, 0)"
   ]
  },
  {
   "cell_type": "code",
   "execution_count": null,
   "id": "d7a34203",
   "metadata": {},
   "outputs": [],
   "source": []
  }
 ],
 "metadata": {
  "jupytext": {
   "formats": "md:myst",
   "text_representation": {
    "extension": ".md",
    "format_name": "myst",
    "format_version": 0.13,
    "jupytext_version": "1.10.3"
   }
  },
  "kernelspec": {
   "display_name": "ai",
   "language": "python",
   "name": "ai"
  },
  "language_info": {
   "codemirror_mode": {
    "name": "ipython",
    "version": 3
   },
   "file_extension": ".py",
   "mimetype": "text/x-python",
   "name": "python",
   "nbconvert_exporter": "python",
   "pygments_lexer": "ipython3",
   "version": "3.9.5"
  },
  "source_map": [
   13,
   21,
   27,
   33,
   37,
   39,
   43,
   47,
   49,
   55,
   60,
   64,
   66,
   70,
   72,
   76,
   79,
   83,
   85,
   91,
   95,
   101,
   103,
   109,
   111,
   119,
   121,
   125,
   130,
   132,
   136,
   141,
   143,
   147,
   153,
   157,
   162,
   166,
   171,
   173,
   185,
   187,
   191,
   196,
   198,
   202,
   207,
   209,
   217,
   221,
   223,
   229,
   232,
   236,
   240,
   242,
   246,
   248,
   252,
   254,
   262,
   266,
   270,
   277,
   279,
   283,
   288,
   292,
   294,
   300,
   306
  ]
 },
 "nbformat": 4,
 "nbformat_minor": 5
}