{
 "cells": [
  {
   "cell_type": "markdown",
   "id": "e16d6714",
   "metadata": {},
   "source": [
    "# 求解\n",
    "\n",
    "参考 [Solvers](https://docs.sympy.org/latest/tutorial/solvers.html)"
   ]
  },
  {
   "cell_type": "code",
   "execution_count": 1,
   "id": "3a42f48d",
   "metadata": {},
   "outputs": [],
   "source": [
    "import warnings\n",
    "from sympy import *\n",
    "\n",
    "warnings.filterwarnings('ignore')\n",
    "x, y, z = symbols('x y z')\n",
    "init_printing(use_latex='mathjax')"
   ]
  },
  {
   "cell_type": "markdown",
   "id": "7f598ae5",
   "metadata": {},
   "source": [
    "## 等式"
   ]
  },
  {
   "cell_type": "code",
   "execution_count": 2,
   "id": "c3e03a19",
   "metadata": {},
   "outputs": [
    {
     "data": {
      "text/latex": [
       "$\\displaystyle x = y$"
      ],
      "text/plain": [
       "x = y"
      ]
     },
     "execution_count": 2,
     "metadata": {},
     "output_type": "execute_result"
    }
   ],
   "source": [
    "Eq(x, y)"
   ]
  },
  {
   "cell_type": "markdown",
   "id": "6c7e5686",
   "metadata": {},
   "source": [
    "解方程："
   ]
  },
  {
   "cell_type": "code",
   "execution_count": 3,
   "id": "ccbedf41",
   "metadata": {},
   "outputs": [
    {
     "data": {
      "text/latex": [
       "$\\displaystyle \\left\\{-1, 1\\right\\}$"
      ],
      "text/plain": [
       "{-1, 1}"
      ]
     },
     "execution_count": 3,
     "metadata": {},
     "output_type": "execute_result"
    }
   ],
   "source": [
    "solveset(Eq(x**2, 1), x)"
   ]
  },
  {
   "cell_type": "code",
   "execution_count": 4,
   "id": "cb179650",
   "metadata": {},
   "outputs": [
    {
     "data": {
      "text/latex": [
       "$\\displaystyle \\left\\{-1, 1\\right\\}$"
      ],
      "text/plain": [
       "{-1, 1}"
      ]
     },
     "execution_count": 4,
     "metadata": {},
     "output_type": "execute_result"
    }
   ],
   "source": [
    "solveset(Eq(x**2 - 1, 0), x)"
   ]
  },
  {
   "cell_type": "code",
   "execution_count": 5,
   "id": "fb972d20",
   "metadata": {},
   "outputs": [
    {
     "data": {
      "text/latex": [
       "$\\displaystyle \\left\\{-1, 1\\right\\}$"
      ],
      "text/plain": [
       "{-1, 1}"
      ]
     },
     "execution_count": 5,
     "metadata": {},
     "output_type": "execute_result"
    }
   ],
   "source": [
    "solveset(x**2 - 1, x)"
   ]
  },
  {
   "cell_type": "markdown",
   "id": "dca29dae",
   "metadata": {},
   "source": [
    "如果您希望求解的方程已经等于 0，这将特别有用。您可以使用 `solveset(expr, x)` 而不是键入 `solveset(Eq(expr, 0), x)`。\n",
    "\n",
    "## 代数求解方程\n",
    "\n",
    "求解代数方程的主要函数是 `solveset`。`solveset` 的语法是 `solveset(equation, variable=None, domain=S.Complexes)` 其中方程可以是 `Eq` 实例或假定为零的表达式的形式。\n",
    "\n",
    "请注意，还有另一个称为 `solve` 的函数，它也可用于求解方程。语法是 `solve(equations, variables)` 但是，建议使用 `solveset` 代替。\n",
    "\n",
    "当求解单个方程时，`solveset` 的输出是一个 `FiniteSet` 或一个 `Interval` 或 `ImageSet`。"
   ]
  },
  {
   "cell_type": "code",
   "execution_count": 6,
   "id": "6ba8eefc",
   "metadata": {},
   "outputs": [
    {
     "data": {
      "text/latex": [
       "$\\displaystyle \\left\\{0, 1\\right\\}$"
      ],
      "text/plain": [
       "{0, 1}"
      ]
     },
     "execution_count": 6,
     "metadata": {},
     "output_type": "execute_result"
    }
   ],
   "source": [
    "solveset(x**2 - x, x)"
   ]
  },
  {
   "cell_type": "code",
   "execution_count": 7,
   "id": "56553e19",
   "metadata": {},
   "outputs": [
    {
     "data": {
      "text/latex": [
       "$\\displaystyle \\mathbb{R}$"
      ],
      "text/plain": [
       "ℝ"
      ]
     },
     "execution_count": 7,
     "metadata": {},
     "output_type": "execute_result"
    }
   ],
   "source": [
    "solveset(x - x, x, domain=S.Reals)"
   ]
  },
  {
   "cell_type": "code",
   "execution_count": 8,
   "id": "82fedc78",
   "metadata": {},
   "outputs": [
    {
     "data": {
      "text/latex": [
       "$\\displaystyle \\left\\{2 n \\pi + \\frac{\\pi}{2}\\; \\middle|\\; n \\in \\mathbb{Z}\\right\\}$"
      ],
      "text/plain": [
       "⎧        π │      ⎫\n",
       "⎨2⋅n⋅π + ─ │ n ∊ ℤ⎬\n",
       "⎩        2 │      ⎭"
      ]
     },
     "execution_count": 8,
     "metadata": {},
     "output_type": "execute_result"
    }
   ],
   "source": [
    "solveset(sin(x) - 1, x, domain=S.Reals)"
   ]
  },
  {
   "cell_type": "markdown",
   "id": "db1eb21a",
   "metadata": {},
   "source": [
    "如果没有解，则返回 `EmptySet`，如果无法找到解，则返回 `ConditionSet`。"
   ]
  },
  {
   "cell_type": "code",
   "execution_count": 9,
   "id": "a404e5f4",
   "metadata": {},
   "outputs": [
    {
     "data": {
      "text/latex": [
       "$\\displaystyle \\emptyset$"
      ],
      "text/plain": [
       "∅"
      ]
     },
     "execution_count": 9,
     "metadata": {},
     "output_type": "execute_result"
    }
   ],
   "source": [
    "solveset(exp(x), x)     # No solution exists"
   ]
  },
  {
   "cell_type": "code",
   "execution_count": 10,
   "id": "8fbe5a0e",
   "metadata": {},
   "outputs": [
    {
     "data": {
      "text/latex": [
       "$\\displaystyle \\left\\{x\\; \\middle|\\; x \\in \\mathbb{C} \\wedge - x + \\cos{\\left(x \\right)} = 0 \\right\\}$"
      ],
      "text/plain": [
       "{x │ x ∊ ℂ ∧ (-x + cos(x) = 0)}"
      ]
     },
     "execution_count": 10,
     "metadata": {},
     "output_type": "execute_result"
    }
   ],
   "source": [
    "solveset(cos(x) - x, x)  # Not able to find solution"
   ]
  },
  {
   "cell_type": "markdown",
   "id": "1f7dc297",
   "metadata": {},
   "source": [
    "在 `solveset` 模块中，线性方程组使用 `linsolve` 求解。将来我们将能够直接从 `solveset` 中使用 `linsolve`。以下是 `linsolve` 的语法示例。\n",
    "\n",
    "- 方程列表形式："
   ]
  },
  {
   "cell_type": "code",
   "execution_count": 11,
   "id": "1ea85724",
   "metadata": {},
   "outputs": [
    {
     "data": {
      "text/latex": [
       "$\\displaystyle \\left\\{\\left( - y - 1, \\  y, \\  2\\right)\\right\\}$"
      ],
      "text/plain": [
       "{(-y - 1, y, 2)}"
      ]
     },
     "execution_count": 11,
     "metadata": {},
     "output_type": "execute_result"
    }
   ],
   "source": [
    "linsolve([x + y + z - 1, x + y + 2*z - 3 ], (x, y, z))"
   ]
  },
  {
   "cell_type": "markdown",
   "id": "36313840",
   "metadata": {},
   "source": [
    "- 增广矩阵形式："
   ]
  },
  {
   "cell_type": "code",
   "execution_count": 12,
   "id": "fb93e091",
   "metadata": {},
   "outputs": [
    {
     "data": {
      "text/latex": [
       "$\\displaystyle \\left\\{\\left( - y - 1, \\  y, \\  2\\right)\\right\\}$"
      ],
      "text/plain": [
       "{(-y - 1, y, 2)}"
      ]
     },
     "execution_count": 12,
     "metadata": {},
     "output_type": "execute_result"
    }
   ],
   "source": [
    "linsolve(Matrix(([1, 1, 1, 1], [1, 1, 2, 3])), (x, y, z))"
   ]
  },
  {
   "cell_type": "markdown",
   "id": "b729a630",
   "metadata": {},
   "source": [
    "- $Ax = b$ 形式："
   ]
  },
  {
   "cell_type": "code",
   "execution_count": 13,
   "id": "3769b980",
   "metadata": {},
   "outputs": [
    {
     "data": {
      "text/latex": [
       "$\\displaystyle \\left\\{\\left( - y - 1, \\  y, \\  2\\right)\\right\\}$"
      ],
      "text/plain": [
       "{(-y - 1, y, 2)}"
      ]
     },
     "execution_count": 13,
     "metadata": {},
     "output_type": "execute_result"
    }
   ],
   "source": [
    "M = Matrix(((1, 1, 1, 1), (1, 1, 2, 3)))\n",
    "system = A, b = M[:, :-1], M[:, -1]\n",
    "linsolve(system, x, y, z)"
   ]
  },
  {
   "cell_type": "markdown",
   "id": "6229d837",
   "metadata": {},
   "source": [
    "在 `solveset` 模块中，非线性方程组使用 `nonlinsolve` 求解。 以下是 `nonlinsolve` 的示例。\n",
    "\n",
    "- 当只有实数的解时："
   ]
  },
  {
   "cell_type": "code",
   "execution_count": 14,
   "id": "5008ac3e",
   "metadata": {},
   "outputs": [
    {
     "data": {
      "text/latex": [
       "$\\displaystyle \\left\\{\\left( -1, \\  -1\\right), \\left( 0, \\  0\\right)\\right\\}$"
      ],
      "text/plain": [
       "{(-1, -1), (0, 0)}"
      ]
     },
     "execution_count": 14,
     "metadata": {},
     "output_type": "execute_result"
    }
   ],
   "source": [
    "a, b, c, d = symbols('a, b, c, d', real=True)\n",
    "nonlinsolve([a**2 + a, a - b], [a, b])"
   ]
  },
  {
   "cell_type": "code",
   "execution_count": 15,
   "id": "cdab0bf2",
   "metadata": {},
   "outputs": [
    {
     "data": {
      "text/latex": [
       "$\\displaystyle \\left\\{\\left( 2, \\  \\frac{1}{2}\\right)\\right\\}$"
      ],
      "text/plain": [
       "{(2, 1/2)}"
      ]
     },
     "execution_count": 15,
     "metadata": {},
     "output_type": "execute_result"
    }
   ],
   "source": [
    "nonlinsolve([x*y - 1, x - 2], x, y)"
   ]
  },
  {
   "cell_type": "markdown",
   "id": "27b2624e",
   "metadata": {},
   "source": [
    "- 当只有复数的解时："
   ]
  },
  {
   "cell_type": "code",
   "execution_count": 16,
   "id": "c68ff9fc",
   "metadata": {},
   "outputs": [
    {
     "data": {
      "text/latex": [
       "$\\displaystyle \\left\\{\\left( - i, \\  - i\\right), \\left( - i, \\  i\\right), \\left( i, \\  - i\\right), \\left( i, \\  i\\right)\\right\\}$"
      ],
      "text/plain": [
       "{(-ⅈ, -ⅈ), (-ⅈ, ⅈ), (ⅈ, -ⅈ), (ⅈ, ⅈ)}"
      ]
     },
     "execution_count": 16,
     "metadata": {},
     "output_type": "execute_result"
    }
   ],
   "source": [
    " nonlinsolve([x**2 + 1, y**2 + 1], [x, y])"
   ]
  },
  {
   "cell_type": "markdown",
   "id": "6add8aac",
   "metadata": {},
   "source": [
    "- 当实解和复解都存在时"
   ]
  },
  {
   "cell_type": "code",
   "execution_count": 17,
   "id": "35fd38b6",
   "metadata": {},
   "outputs": [
    {
     "data": {
      "text/latex": [
       "$\\displaystyle \\left\\{\\left( -2, \\  -1\\right), \\left( 2, \\  1\\right), \\left( - \\sqrt{2} i, \\  \\sqrt{2} i\\right), \\left( \\sqrt{2} i, \\  - \\sqrt{2} i\\right)\\right\\}$"
      ],
      "text/plain": [
       "{(-2, -1), (2, 1), (-√2⋅ⅈ, √2⋅ⅈ), (√2⋅ⅈ, -√2⋅ⅈ)}"
      ]
     },
     "execution_count": 17,
     "metadata": {},
     "output_type": "execute_result"
    }
   ],
   "source": [
    "system = [x**2 - 2*y**2 -2, x*y - 2]\n",
    "vars = [x, y]\n",
    "nonlinsolve(system, vars)"
   ]
  },
  {
   "cell_type": "code",
   "execution_count": 18,
   "id": "4596a2ed",
   "metadata": {},
   "outputs": [
    {
     "data": {
      "text/latex": [
       "$\\displaystyle \\left\\{\\left( \\left\\{2 n i \\pi + \\log{\\left(\\sin{\\left(\\frac{1}{3} \\right)} \\right)}\\; \\middle|\\; n \\in \\mathbb{Z}\\right\\}, \\  \\frac{1}{3}\\right)\\right\\}$"
      ],
      "text/plain": [
       "{({2⋅n⋅ⅈ⋅π + log(sin(1/3)) │ n ∊ ℤ}, 1/3)}"
      ]
     },
     "execution_count": 18,
     "metadata": {},
     "output_type": "execute_result"
    }
   ],
   "source": [
    "system = [exp(x) - sin(y), 1/y - 3]\n",
    "nonlinsolve(system, vars)"
   ]
  },
  {
   "cell_type": "markdown",
   "id": "80cd4772",
   "metadata": {},
   "source": [
    "- 当系统是正维系统时（有无穷多个解）："
   ]
  },
  {
   "cell_type": "code",
   "execution_count": 19,
   "id": "2e816c5b",
   "metadata": {},
   "outputs": [
    {
     "data": {
      "text/latex": [
       "$\\displaystyle \\left\\{\\left( 0, \\  y\\right)\\right\\}$"
      ],
      "text/plain": [
       "{(0, y)}"
      ]
     },
     "execution_count": 19,
     "metadata": {},
     "output_type": "execute_result"
    }
   ],
   "source": [
    "nonlinsolve([x*y, x*y - x], [x, y])"
   ]
  },
  {
   "cell_type": "code",
   "execution_count": 20,
   "id": "b4270e3c",
   "metadata": {},
   "outputs": [
    {
     "data": {
      "text/latex": [
       "$\\displaystyle \\left\\{\\left( 0, \\  0\\right), \\left( - c, \\  - c\\right)\\right\\}$"
      ],
      "text/plain": [
       "{(0, 0), (-c, -c)}"
      ]
     },
     "execution_count": 20,
     "metadata": {},
     "output_type": "execute_result"
    }
   ],
   "source": [
    "system = [a**2 + a*c, a - b]\n",
    "nonlinsolve(system, [a, b])"
   ]
  },
  {
   "cell_type": "markdown",
   "id": "7d6063dc",
   "metadata": {},
   "source": [
    "如果存在以 `LambertW` 形式存在的解，则："
   ]
  },
  {
   "cell_type": "code",
   "execution_count": 21,
   "id": "a6d113c8",
   "metadata": {},
   "outputs": [
    {
     "data": {
      "text/latex": [
       "$\\displaystyle \\left[ \\left\\{ x : 2 W\\left(- \\frac{y}{2}\\right)\\right\\}, \\  \\left\\{ x : 2 W\\left(\\frac{y}{2}\\right)\\right\\}\\right]$"
      ],
      "text/plain": [
       "⎡⎧      ⎛-y ⎞⎫  ⎧      ⎛y⎞⎫⎤\n",
       "⎢⎨x: 2⋅W⎜───⎟⎬, ⎨x: 2⋅W⎜─⎟⎬⎥\n",
       "⎣⎩      ⎝ 2 ⎠⎭  ⎩      ⎝2⎠⎭⎦"
      ]
     },
     "execution_count": 21,
     "metadata": {},
     "output_type": "execute_result"
    }
   ],
   "source": [
    "solve([x**2 - y**2/exp(x)], [x, y], dict=True)"
   ]
  },
  {
   "cell_type": "code",
   "execution_count": 22,
   "id": "cba5dfbf",
   "metadata": {},
   "outputs": [
    {
     "data": {
      "text/latex": [
       "$\\displaystyle \\left[ W\\left(1\\right)\\right]$"
      ],
      "text/plain": [
       "[W(1)]"
      ]
     },
     "execution_count": 22,
     "metadata": {},
     "output_type": "execute_result"
    }
   ],
   "source": [
    "solve(x*exp(x) - 1, x )"
   ]
  },
  {
   "cell_type": "markdown",
   "id": "bb65f064",
   "metadata": {},
   "source": [
    "三角方程式使用 `solve`："
   ]
  },
  {
   "cell_type": "code",
   "execution_count": 23,
   "id": "00e81eb0",
   "metadata": {},
   "outputs": [
    {
     "data": {
      "text/latex": [
       "$\\displaystyle \\left[ \\left( - \\frac{3 \\pi}{4}, \\  \\frac{3 \\pi}{4}\\right), \\  \\left( - \\frac{\\pi}{4}, \\  \\frac{\\pi}{4}\\right), \\  \\left( \\frac{\\pi}{4}, \\  \\frac{3 \\pi}{4}\\right), \\  \\left( \\frac{3 \\pi}{4}, \\  \\frac{\\pi}{4}\\right)\\right]$"
      ],
      "text/plain": [
       "⎡⎛-3⋅π   3⋅π⎞  ⎛-π   π⎞  ⎛π  3⋅π⎞  ⎛3⋅π  π⎞⎤\n",
       "⎢⎜─────, ───⎟, ⎜───, ─⎟, ⎜─, ───⎟, ⎜───, ─⎟⎥\n",
       "⎣⎝  4     4 ⎠  ⎝ 4   4⎠  ⎝4   4 ⎠  ⎝ 4   4⎠⎦"
      ]
     },
     "execution_count": 23,
     "metadata": {},
     "output_type": "execute_result"
    }
   ],
   "source": [
    "solve([sin(x + y), cos(x - y)], [x, y])"
   ]
  },
  {
   "cell_type": "markdown",
   "id": "d34fae47",
   "metadata": {},
   "source": [
    "`solveset` 只报告每个解一次。要获得包含多重性的多项式的解，请使用 `roots`。"
   ]
  },
  {
   "cell_type": "code",
   "execution_count": 24,
   "id": "64a4d821",
   "metadata": {},
   "outputs": [
    {
     "data": {
      "text/latex": [
       "$\\displaystyle \\left\\{0, 3\\right\\}$"
      ],
      "text/plain": [
       "{0, 3}"
      ]
     },
     "execution_count": 24,
     "metadata": {},
     "output_type": "execute_result"
    }
   ],
   "source": [
    "solveset(x**3 - 6*x**2 + 9*x, x)"
   ]
  },
  {
   "cell_type": "code",
   "execution_count": 25,
   "id": "8d73aa43",
   "metadata": {},
   "outputs": [
    {
     "data": {
      "text/latex": [
       "$\\displaystyle \\left\\{ 0 : 1, \\  3 : 2\\right\\}$"
      ],
      "text/plain": [
       "{0: 1, 3: 2}"
      ]
     },
     "execution_count": 25,
     "metadata": {},
     "output_type": "execute_result"
    }
   ],
   "source": [
    "roots(x**3 - 6*x**2 + 9*x, x)"
   ]
  },
  {
   "cell_type": "markdown",
   "id": "84c3e7fd",
   "metadata": {},
   "source": [
    "## 求解微分方程\n",
    "\n",
    "要求解微分方程，请使用 `dsolve`。首先，通过将 `cls=Function` 传递给 `symbols` 函数来创建一个未定义的函数。"
   ]
  },
  {
   "cell_type": "code",
   "execution_count": 26,
   "id": "5205f0fe",
   "metadata": {},
   "outputs": [],
   "source": [
    "f, g = symbols('f g', cls=Function)"
   ]
  },
  {
   "cell_type": "markdown",
   "id": "04b3a84b",
   "metadata": {},
   "source": [
    "`f` 和 `g` 现在是未定义的函数。我们可以调用 `f(x)`，它将代表一个未知函数。"
   ]
  },
  {
   "cell_type": "code",
   "execution_count": 27,
   "id": "61a4cad5",
   "metadata": {},
   "outputs": [
    {
     "data": {
      "text/latex": [
       "$\\displaystyle f{\\left(x \\right)}$"
      ],
      "text/plain": [
       "f(x)"
      ]
     },
     "execution_count": 27,
     "metadata": {},
     "output_type": "execute_result"
    }
   ],
   "source": [
    "f(x)"
   ]
  },
  {
   "cell_type": "markdown",
   "id": "9303cb23",
   "metadata": {},
   "source": [
    "$f(x)$ 的导数也是未计算的。"
   ]
  },
  {
   "cell_type": "code",
   "execution_count": 28,
   "id": "5745cf9d",
   "metadata": {},
   "outputs": [
    {
     "data": {
      "text/latex": [
       "$\\displaystyle \\frac{d}{d x} f{\\left(x \\right)}$"
      ],
      "text/plain": [
       "d       \n",
       "──(f(x))\n",
       "dx      "
      ]
     },
     "execution_count": 28,
     "metadata": {},
     "output_type": "execute_result"
    }
   ],
   "source": [
    "f(x).diff(x)"
   ]
  },
  {
   "cell_type": "markdown",
   "id": "e950a317",
   "metadata": {},
   "source": [
    "为了表示微分方程 $f''(x) - 2f'(x) + f(x) = \\sin(x)$，我们将使用"
   ]
  },
  {
   "cell_type": "code",
   "execution_count": 29,
   "id": "8ec0ee51",
   "metadata": {},
   "outputs": [
    {
     "data": {
      "text/latex": [
       "$\\displaystyle f{\\left(x \\right)} - 2 \\frac{d}{d x} f{\\left(x \\right)} + \\frac{d^{2}}{d x^{2}} f{\\left(x \\right)} = \\sin{\\left(x \\right)}$"
      ],
      "text/plain": [
       "                      2               \n",
       "         d           d                \n",
       "f(x) - 2⋅──(f(x)) + ───(f(x)) = sin(x)\n",
       "         dx           2               \n",
       "                    dx                "
      ]
     },
     "execution_count": 29,
     "metadata": {},
     "output_type": "execute_result"
    }
   ],
   "source": [
    "diffeq = Eq(f(x).diff(x, x) - 2*f(x).diff(x) + f(x), sin(x))\n",
    "diffeq"
   ]
  },
  {
   "cell_type": "markdown",
   "id": "02e4c836",
   "metadata": {},
   "source": [
    "要求解 ODE，请将它和要求解的函数传递给 `dsolve`："
   ]
  },
  {
   "cell_type": "code",
   "execution_count": 30,
   "id": "d75cf068",
   "metadata": {},
   "outputs": [
    {
     "data": {
      "text/latex": [
       "$\\displaystyle f{\\left(x \\right)} = \\left(C_{1} + C_{2} x\\right) e^{x} + \\frac{\\cos{\\left(x \\right)}}{2}$"
      ],
      "text/plain": [
       "                    x   cos(x)\n",
       "f(x) = (C₁ + C₂⋅x)⋅ℯ  + ──────\n",
       "                          2   "
      ]
     },
     "execution_count": 30,
     "metadata": {},
     "output_type": "execute_result"
    }
   ],
   "source": [
    "dsolve(diffeq, f(x))"
   ]
  },
  {
   "cell_type": "markdown",
   "id": "6a18cff4",
   "metadata": {},
   "source": [
    "`dsolve` 返回 `Eq` 的一个实例。这是因为一般来说，微分方程的解不能显式求解该函数。"
   ]
  },
  {
   "cell_type": "code",
   "execution_count": 31,
   "id": "ffbfbf5e",
   "metadata": {},
   "outputs": [
    {
     "data": {
      "text/latex": [
       "$\\displaystyle x - f{\\left(x \\right)} - \\cos{\\left(f{\\left(x \\right)} \\right)} = C_{1}$"
      ],
      "text/plain": [
       "x - f(x) - cos(f(x)) = C₁"
      ]
     },
     "execution_count": 31,
     "metadata": {},
     "output_type": "execute_result"
    }
   ],
   "source": [
    "dsolve(f(x).diff(x)*(1 - sin(f(x))) - 1, f(x))"
   ]
  },
  {
   "cell_type": "markdown",
   "id": "a7d00e2c",
   "metadata": {},
   "source": [
    "来自 `dsolve` 的解中的任意常数是 `C1`、`C2`、`C3` 等形式的符号。"
   ]
  }
 ],
 "metadata": {
  "jupytext": {
   "formats": "md:myst",
   "text_representation": {
    "extension": ".md",
    "format_name": "myst",
    "format_version": 0.13,
    "jupytext_version": "1.10.3"
   }
  },
  "kernelspec": {
   "display_name": "ai",
   "language": "python",
   "name": "ai"
  },
  "language_info": {
   "codemirror_mode": {
    "name": "ipython",
    "version": 3
   },
   "file_extension": ".py",
   "mimetype": "text/x-python",
   "name": "python",
   "nbconvert_exporter": "python",
   "pygments_lexer": "ipython3",
   "version": "3.8.5"
  },
  "source_map": [
   13,
   19,
   26,
   30,
   32,
   36,
   40,
   44,
   46,
   58,
   62,
   66,
   68,
   72,
   76,
   78,
   84,
   86,
   90,
   92,
   96,
   100,
   106,
   111,
   113,
   117,
   119,
   123,
   129,
   132,
   136,
   140,
   143,
   147,
   151,
   153,
   157,
   159,
   163,
   167,
   169,
   175,
   177,
   181,
   183,
   187,
   189,
   193,
   196,
   200,
   202,
   206,
   208
  ]
 },
 "nbformat": 4,
 "nbformat_minor": 5
}